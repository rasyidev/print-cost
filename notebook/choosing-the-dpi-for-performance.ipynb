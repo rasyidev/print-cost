{
 "cells": [
  {
   "cell_type": "markdown",
   "id": "e2b89726-cef4-4a49-b917-0237f46ad757",
   "metadata": {},
   "source": [
    "# Chosing the Image DPI for Performance"
   ]
  },
  {
   "cell_type": "code",
   "execution_count": 69,
   "id": "1fb76246-0053-4076-ba36-74de5559723a",
   "metadata": {},
   "outputs": [],
   "source": [
    "import pandas as pd\n",
    "from sklearn.cluster import KMeans\n",
    "from sklearn.preprocessing import StandardScaler"
   ]
  },
  {
   "cell_type": "code",
   "execution_count": 70,
   "id": "b5a67d98-62df-4046-b6b2-308eae39ae30",
   "metadata": {},
   "outputs": [],
   "source": [
    "df = pd.read_csv(\"../datasets/cmyk-by-dpi.csv\")\n",
    "df['sum'] = df['c'] + df['m'] + df['y'] + df['k']\n",
    "df.drop(columns=['page', 'processing_time', 'c', 'm', 'y', 'k'], inplace=True)"
   ]
  },
  {
   "cell_type": "code",
   "execution_count": 60,
   "id": "1e118dac-c52a-4940-9d62-a761dc92e1a0",
   "metadata": {},
   "outputs": [],
   "source": [
    "# Create dataframe for each dpi\n",
    "df5 = df[df['dpi'] == 5].copy().drop(columns=['dpi']).reset_index(drop=True)\n",
    "\n",
    "df10 = df[df['dpi'] == 10].copy().drop(columns=['dpi']).reset_index(drop=True)\n",
    "\n",
    "df20 = df[df['dpi'] == 20].copy().drop(columns=['dpi']).reset_index(drop=True)\n",
    "\n",
    "df50 = df[df['dpi'] == 50].copy().drop(columns=['dpi']).reset_index(drop=True)\n",
    "\n",
    "df100 = df[df['dpi'] == 100].copy().drop(columns=['dpi']).reset_index(drop=True)\n",
    "\n",
    "df150 = df[df['dpi'] == 150].copy().drop(columns=['dpi']).reset_index(drop=True)\n",
    "\n",
    "df200 = df[df['dpi'] == 200].copy().drop(columns=['dpi']).reset_index(drop=True)\n",
    "\n",
    "df250 = df[df['dpi'] == 250].copy().drop(columns=['dpi']).reset_index(drop=True)"
   ]
  },
  {
   "cell_type": "code",
   "execution_count": 61,
   "id": "16a78a9b-cead-4e8b-8b9c-0a8adefb517f",
   "metadata": {},
   "outputs": [
    {
     "data": {
      "text/html": [
       "<style>#sk-container-id-6 {color: black;}#sk-container-id-6 pre{padding: 0;}#sk-container-id-6 div.sk-toggleable {background-color: white;}#sk-container-id-6 label.sk-toggleable__label {cursor: pointer;display: block;width: 100%;margin-bottom: 0;padding: 0.3em;box-sizing: border-box;text-align: center;}#sk-container-id-6 label.sk-toggleable__label-arrow:before {content: \"▸\";float: left;margin-right: 0.25em;color: #696969;}#sk-container-id-6 label.sk-toggleable__label-arrow:hover:before {color: black;}#sk-container-id-6 div.sk-estimator:hover label.sk-toggleable__label-arrow:before {color: black;}#sk-container-id-6 div.sk-toggleable__content {max-height: 0;max-width: 0;overflow: hidden;text-align: left;background-color: #f0f8ff;}#sk-container-id-6 div.sk-toggleable__content pre {margin: 0.2em;color: black;border-radius: 0.25em;background-color: #f0f8ff;}#sk-container-id-6 input.sk-toggleable__control:checked~div.sk-toggleable__content {max-height: 200px;max-width: 100%;overflow: auto;}#sk-container-id-6 input.sk-toggleable__control:checked~label.sk-toggleable__label-arrow:before {content: \"▾\";}#sk-container-id-6 div.sk-estimator input.sk-toggleable__control:checked~label.sk-toggleable__label {background-color: #d4ebff;}#sk-container-id-6 div.sk-label input.sk-toggleable__control:checked~label.sk-toggleable__label {background-color: #d4ebff;}#sk-container-id-6 input.sk-hidden--visually {border: 0;clip: rect(1px 1px 1px 1px);clip: rect(1px, 1px, 1px, 1px);height: 1px;margin: -1px;overflow: hidden;padding: 0;position: absolute;width: 1px;}#sk-container-id-6 div.sk-estimator {font-family: monospace;background-color: #f0f8ff;border: 1px dotted black;border-radius: 0.25em;box-sizing: border-box;margin-bottom: 0.5em;}#sk-container-id-6 div.sk-estimator:hover {background-color: #d4ebff;}#sk-container-id-6 div.sk-parallel-item::after {content: \"\";width: 100%;border-bottom: 1px solid gray;flex-grow: 1;}#sk-container-id-6 div.sk-label:hover label.sk-toggleable__label {background-color: #d4ebff;}#sk-container-id-6 div.sk-serial::before {content: \"\";position: absolute;border-left: 1px solid gray;box-sizing: border-box;top: 0;bottom: 0;left: 50%;z-index: 0;}#sk-container-id-6 div.sk-serial {display: flex;flex-direction: column;align-items: center;background-color: white;padding-right: 0.2em;padding-left: 0.2em;position: relative;}#sk-container-id-6 div.sk-item {position: relative;z-index: 1;}#sk-container-id-6 div.sk-parallel {display: flex;align-items: stretch;justify-content: center;background-color: white;position: relative;}#sk-container-id-6 div.sk-item::before, #sk-container-id-6 div.sk-parallel-item::before {content: \"\";position: absolute;border-left: 1px solid gray;box-sizing: border-box;top: 0;bottom: 0;left: 50%;z-index: -1;}#sk-container-id-6 div.sk-parallel-item {display: flex;flex-direction: column;z-index: 1;position: relative;background-color: white;}#sk-container-id-6 div.sk-parallel-item:first-child::after {align-self: flex-end;width: 50%;}#sk-container-id-6 div.sk-parallel-item:last-child::after {align-self: flex-start;width: 50%;}#sk-container-id-6 div.sk-parallel-item:only-child::after {width: 0;}#sk-container-id-6 div.sk-dashed-wrapped {border: 1px dashed gray;margin: 0 0.4em 0.5em 0.4em;box-sizing: border-box;padding-bottom: 0.4em;background-color: white;}#sk-container-id-6 div.sk-label label {font-family: monospace;font-weight: bold;display: inline-block;line-height: 1.2em;}#sk-container-id-6 div.sk-label-container {text-align: center;}#sk-container-id-6 div.sk-container {/* jupyter's `normalize.less` sets `[hidden] { display: none; }` but bootstrap.min.css set `[hidden] { display: none !important; }` so we also need the `!important` here to be able to override the default hidden behavior on the sphinx rendered scikit-learn.org. See: https://github.com/scikit-learn/scikit-learn/issues/21755 */display: inline-block !important;position: relative;}#sk-container-id-6 div.sk-text-repr-fallback {display: none;}</style><div id=\"sk-container-id-6\" class=\"sk-top-container\"><div class=\"sk-text-repr-fallback\"><pre>KMeans(n_clusters=6, n_init=&#x27;auto&#x27;)</pre><b>In a Jupyter environment, please rerun this cell to show the HTML representation or trust the notebook. <br />On GitHub, the HTML representation is unable to render, please try loading this page with nbviewer.org.</b></div><div class=\"sk-container\" hidden><div class=\"sk-item\"><div class=\"sk-estimator sk-toggleable\"><input class=\"sk-toggleable__control sk-hidden--visually\" id=\"sk-estimator-id-6\" type=\"checkbox\" checked><label for=\"sk-estimator-id-6\" class=\"sk-toggleable__label sk-toggleable__label-arrow\">KMeans</label><div class=\"sk-toggleable__content\"><pre>KMeans(n_clusters=6, n_init=&#x27;auto&#x27;)</pre></div></div></div></div></div>"
      ],
      "text/plain": [
       "KMeans(n_clusters=6, n_init='auto')"
      ]
     },
     "execution_count": 61,
     "metadata": {},
     "output_type": "execute_result"
    }
   ],
   "source": [
    "scaler = StandardScaler()\n",
    "kmeans = KMeans(n_clusters=6, n_init='auto')\n",
    "\n",
    "kmeans.fit(scaler.fit_transform(df20[['sum']]))"
   ]
  },
  {
   "cell_type": "code",
   "execution_count": 62,
   "id": "2012013f-c958-49fe-bfff-fba6cc8b28b2",
   "metadata": {},
   "outputs": [],
   "source": [
    "df50['label'] = kmeans.labels_"
   ]
  },
  {
   "cell_type": "code",
   "execution_count": 63,
   "id": "61a43da4-2d44-4d23-9ee0-4d2ebcb2ca57",
   "metadata": {},
   "outputs": [
    {
     "data": {
      "text/html": [
       "<div>\n",
       "<style scoped>\n",
       "    .dataframe tbody tr th:only-of-type {\n",
       "        vertical-align: middle;\n",
       "    }\n",
       "\n",
       "    .dataframe tbody tr th {\n",
       "        vertical-align: top;\n",
       "    }\n",
       "\n",
       "    .dataframe thead th {\n",
       "        text-align: right;\n",
       "    }\n",
       "</style>\n",
       "<table border=\"1\" class=\"dataframe\">\n",
       "  <thead>\n",
       "    <tr style=\"text-align: right;\">\n",
       "      <th></th>\n",
       "      <th>label</th>\n",
       "    </tr>\n",
       "  </thead>\n",
       "  <tbody>\n",
       "    <tr>\n",
       "      <th>0</th>\n",
       "      <td>3</td>\n",
       "    </tr>\n",
       "    <tr>\n",
       "      <th>1</th>\n",
       "      <td>2</td>\n",
       "    </tr>\n",
       "    <tr>\n",
       "      <th>2</th>\n",
       "      <td>0</td>\n",
       "    </tr>\n",
       "    <tr>\n",
       "      <th>3</th>\n",
       "      <td>2</td>\n",
       "    </tr>\n",
       "    <tr>\n",
       "      <th>4</th>\n",
       "      <td>2</td>\n",
       "    </tr>\n",
       "    <tr>\n",
       "      <th>...</th>\n",
       "      <td>...</td>\n",
       "    </tr>\n",
       "    <tr>\n",
       "      <th>847</th>\n",
       "      <td>2</td>\n",
       "    </tr>\n",
       "    <tr>\n",
       "      <th>848</th>\n",
       "      <td>2</td>\n",
       "    </tr>\n",
       "    <tr>\n",
       "      <th>849</th>\n",
       "      <td>2</td>\n",
       "    </tr>\n",
       "    <tr>\n",
       "      <th>850</th>\n",
       "      <td>2</td>\n",
       "    </tr>\n",
       "    <tr>\n",
       "      <th>851</th>\n",
       "      <td>3</td>\n",
       "    </tr>\n",
       "  </tbody>\n",
       "</table>\n",
       "<p>852 rows × 1 columns</p>\n",
       "</div>"
      ],
      "text/plain": [
       "     label\n",
       "0        3\n",
       "1        2\n",
       "2        0\n",
       "3        2\n",
       "4        2\n",
       "..     ...\n",
       "847      2\n",
       "848      2\n",
       "849      2\n",
       "850      2\n",
       "851      3\n",
       "\n",
       "[852 rows x 1 columns]"
      ]
     },
     "execution_count": 63,
     "metadata": {},
     "output_type": "execute_result"
    }
   ],
   "source": [
    "y_test = pd.read_csv(\"../datasets/300dpi-6-cluster-with-label.csv\")\n",
    "y_test.drop(columns=['Unnamed: 0', 'sum'], inplace=True)\n",
    "y_test"
   ]
  },
  {
   "cell_type": "code",
   "execution_count": 64,
   "id": "b1493e5c-78d4-4a15-88c2-1f6afd7d11bb",
   "metadata": {},
   "outputs": [],
   "source": [
    "true_count = 0\n",
    "for pred, test in zip(df50['label'], y_test['label']):\n",
    "    if pred == test:\n",
    "        true_count +=1\n",
    "\n",
    "accuracy = true_count / len(y_test) * 100"
   ]
  },
  {
   "cell_type": "code",
   "execution_count": 65,
   "id": "7afc0789-c5c7-4e37-a1c9-199eb1cea4e2",
   "metadata": {},
   "outputs": [
    {
     "data": {
      "text/plain": [
       "1.8779342723004695"
      ]
     },
     "execution_count": 65,
     "metadata": {},
     "output_type": "execute_result"
    }
   ],
   "source": [
    "accuracy"
   ]
  },
  {
   "cell_type": "code",
   "execution_count": 86,
   "id": "57ed2514-6404-498b-900c-99ee202eab8c",
   "metadata": {},
   "outputs": [
    {
     "name": "stdout",
     "output_type": "stream",
     "text": [
      "{5: 100.0, 10: 100.0, 20: 100.0, 50: 100.0, 100: 100.0, 150: 100.0, 200: 100.0, 250: 100.0, 300: 100.0}\n"
     ]
    }
   ],
   "source": [
    "import pickle\n",
    "\n",
    "kmeans, scaler = pickle.load(open('../models/kmeans_and_scaler.pkl', 'rb'))\n",
    "\n",
    "df = pd.read_csv(\"../datasets/cmyk-by-dpi.csv\")\n",
    "df['sum'] = df['c'] + df['m'] + df['y'] + df['k']\n",
    "df.drop(columns=['page', 'processing_time', 'c', 'm', 'y', 'k'], inplace=True)\n",
    "\n",
    "y_test = pd.read_csv(\"../datasets/300dpi-6-cluster-with-label.csv\")\n",
    "y_test.drop(columns=['Unnamed: 0', 'sum'], inplace=True)\n",
    "\n",
    "dpi_list =  [5, 10, 20] + list(range(50, 301, 50))\n",
    "\n",
    "accuracy = {}\n",
    "for dpi in dpi_list:\n",
    "    temp_df = df[df['dpi'] == dpi].copy().drop(columns=['dpi']).reset_index(drop=True)\n",
    "    kmeans.predict(scaler.transform(temp_df[['sum']]))\n",
    "    temp_df['label'] = kmeans.labels_\n",
    "\n",
    "    true_count = 0\n",
    "    for pred, test in zip(temp_df['label'], y_test['label']):\n",
    "        if pred == test:\n",
    "            true_count +=1\n",
    "            \n",
    "    accuracy[dpi] = true_count / len(y_test) * 100\n",
    "\n",
    "print(accuracy)"
   ]
  },
  {
   "cell_type": "markdown",
   "id": "378f3861-3b1e-4389-92ee-6b4bc5f8a039",
   "metadata": {},
   "source": [
    "Manarik sekali! dengan dataset 300dpi, accuracy untuk data di semua DPI tetap 100%. Karena 5dpi memiliki waktu konversi paling cepat dengan accuracy yang tetap 100%. Maka implementasi model pada aplikasi akan menggunakan konversi ke 5dpi."
   ]
  },
  {
   "cell_type": "code",
   "execution_count": 72,
   "id": "ceeedead-a94b-4b57-a2ae-1ae7e47161e7",
   "metadata": {},
   "outputs": [
    {
     "data": {
      "text/html": [
       "<div>\n",
       "<style scoped>\n",
       "    .dataframe tbody tr th:only-of-type {\n",
       "        vertical-align: middle;\n",
       "    }\n",
       "\n",
       "    .dataframe tbody tr th {\n",
       "        vertical-align: top;\n",
       "    }\n",
       "\n",
       "    .dataframe thead th {\n",
       "        text-align: right;\n",
       "    }\n",
       "</style>\n",
       "<table border=\"1\" class=\"dataframe\">\n",
       "  <thead>\n",
       "    <tr style=\"text-align: right;\">\n",
       "      <th></th>\n",
       "      <th>sum</th>\n",
       "    </tr>\n",
       "  </thead>\n",
       "  <tbody>\n",
       "    <tr>\n",
       "      <th>0</th>\n",
       "      <td>154.52</td>\n",
       "    </tr>\n",
       "    <tr>\n",
       "      <th>1</th>\n",
       "      <td>0.08</td>\n",
       "    </tr>\n",
       "    <tr>\n",
       "      <th>2</th>\n",
       "      <td>15.71</td>\n",
       "    </tr>\n",
       "    <tr>\n",
       "      <th>3</th>\n",
       "      <td>2.99</td>\n",
       "    </tr>\n",
       "    <tr>\n",
       "      <th>4</th>\n",
       "      <td>4.32</td>\n",
       "    </tr>\n",
       "  </tbody>\n",
       "</table>\n",
       "</div>"
      ],
      "text/plain": [
       "      sum\n",
       "0  154.52\n",
       "1    0.08\n",
       "2   15.71\n",
       "3    2.99\n",
       "4    4.32"
      ]
     },
     "execution_count": 72,
     "metadata": {},
     "output_type": "execute_result"
    }
   ],
   "source": []
  },
  {
   "cell_type": "code",
   "execution_count": 93,
   "id": "daa86ff9-70b1-436d-9dd3-6386a33aa4ab",
   "metadata": {},
   "outputs": [],
   "source": [
    "df = pd.read_csv(\"../datasets/cmyk-by-dpi.csv\")\n",
    "df['sum'] = df['c'] + df['m'] + df['y'] + df['k']\n",
    "df.drop(columns=['processing_time', 'c', 'm', 'y', 'k'], inplace=True)"
   ]
  },
  {
   "cell_type": "code",
   "execution_count": 97,
   "id": "e3cc822a-bcb1-4012-a08b-eb818cf837e2",
   "metadata": {},
   "outputs": [
    {
     "data": {
      "text/html": [
       "<div>\n",
       "<style scoped>\n",
       "    .dataframe tbody tr th:only-of-type {\n",
       "        vertical-align: middle;\n",
       "    }\n",
       "\n",
       "    .dataframe tbody tr th {\n",
       "        vertical-align: top;\n",
       "    }\n",
       "\n",
       "    .dataframe thead th {\n",
       "        text-align: right;\n",
       "    }\n",
       "</style>\n",
       "<table border=\"1\" class=\"dataframe\">\n",
       "  <thead>\n",
       "    <tr style=\"text-align: right;\">\n",
       "      <th></th>\n",
       "      <th>page</th>\n",
       "      <th>dpi</th>\n",
       "      <th>sum</th>\n",
       "    </tr>\n",
       "  </thead>\n",
       "  <tbody>\n",
       "    <tr>\n",
       "      <th>0</th>\n",
       "      <td>1</td>\n",
       "      <td>300</td>\n",
       "      <td>157.95</td>\n",
       "    </tr>\n",
       "    <tr>\n",
       "      <th>1704</th>\n",
       "      <td>1</td>\n",
       "      <td>200</td>\n",
       "      <td>157.92</td>\n",
       "    </tr>\n",
       "    <tr>\n",
       "      <th>3408</th>\n",
       "      <td>1</td>\n",
       "      <td>100</td>\n",
       "      <td>157.75</td>\n",
       "    </tr>\n",
       "    <tr>\n",
       "      <th>4260</th>\n",
       "      <td>1</td>\n",
       "      <td>50</td>\n",
       "      <td>157.37</td>\n",
       "    </tr>\n",
       "    <tr>\n",
       "      <th>5964</th>\n",
       "      <td>1</td>\n",
       "      <td>10</td>\n",
       "      <td>154.52</td>\n",
       "    </tr>\n",
       "    <tr>\n",
       "      <th>6816</th>\n",
       "      <td>1</td>\n",
       "      <td>5</td>\n",
       "      <td>152.05</td>\n",
       "    </tr>\n",
       "  </tbody>\n",
       "</table>\n",
       "</div>"
      ],
      "text/plain": [
       "      page  dpi     sum\n",
       "0        1  300  157.95\n",
       "1704     1  200  157.92\n",
       "3408     1  100  157.75\n",
       "4260     1   50  157.37\n",
       "5964     1   10  154.52\n",
       "6816     1    5  152.05"
      ]
     },
     "execution_count": 97,
     "metadata": {},
     "output_type": "execute_result"
    }
   ],
   "source": [
    "df[(df['dpi'].isin([5,10,50,100,200,300])) & (df['page'] == 1)]"
   ]
  },
  {
   "cell_type": "code",
   "execution_count": null,
   "id": "e88998df-31a6-46b0-9be2-a6cdf780b42b",
   "metadata": {},
   "outputs": [],
   "source": []
  }
 ],
 "metadata": {
  "kernelspec": {
   "display_name": "Python [conda env:print-cost] *",
   "language": "python",
   "name": "conda-env-print-cost-py"
  },
  "language_info": {
   "codemirror_mode": {
    "name": "ipython",
    "version": 3
   },
   "file_extension": ".py",
   "mimetype": "text/x-python",
   "name": "python",
   "nbconvert_exporter": "python",
   "pygments_lexer": "ipython3",
   "version": "3.11.10"
  }
 },
 "nbformat": 4,
 "nbformat_minor": 5
}
