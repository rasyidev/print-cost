{
 "cells": [
  {
   "cell_type": "markdown",
   "id": "162f6dd5",
   "metadata": {},
   "source": [
    "# Riset Konversi PDF ke Gambar\n",
    "\n",
    "**Tujuan**\n",
    "- Membandingkan kecepatan convert file pdf ke file gambar\n",
    "- \n",
    "\n",
    "**Parameter:**\n",
    "- PDF Converter Libraries: pdf2image, pdfium, pymupdf\n",
    "- DPI: 300, 250, 200, 150, 100, 50, 20, 10, 5\n",
    "- Waktu\n",
    "\n",
    "**Base perbandingan:**\n",
    "- 300 DPI\n",
    "- Waktu untuk 300 DPI\n",
    "\n",
    "**CSV Column for Comparisons:**\n",
    "- datetime\n",
    "- library_name\n",
    "- dpi\n",
    "- converting_time\n",
    "- output_folder_size"
   ]
  },
  {
   "cell_type": "code",
   "execution_count": 6,
   "id": "4be461c2",
   "metadata": {},
   "outputs": [],
   "source": [
    "import sys\n",
    "import os\n",
    "from pdf2image import convert_from_path\n",
    "import pymupdf\n",
    "import pypdfium2 as pdfium\n",
    "import time\n",
    "from datetime import datetime\n",
    "\n",
    "sys.path.append(os.path.abspath('..'))\n",
    "from src.helper import get_folder_size, log"
   ]
  },
  {
   "cell_type": "code",
   "execution_count": 5,
   "id": "558b298e-a56e-4bba-9928-09ccbc191c24",
   "metadata": {},
   "outputs": [
    {
     "name": "stdout",
     "output_type": "stream",
     "text": [
      "Converting to 250 dpi images...\n",
      "2024-10-23 22:47:04.467436,pdf2img,250,148.6288459300995,278.72\n",
      "Converting to 200 dpi images...\n",
      "2024-10-23 22:48:53.715457,pdf2img,200,109.24184608459473,201.25\n",
      "Converting to 150 dpi images...\n",
      "2024-10-23 22:50:19.190190,pdf2img,150,85.46749496459961,130.42\n",
      "Converting to 100 dpi images...\n",
      "2024-10-23 22:51:10.012915,pdf2img,100,50.81601595878601,68.7\n",
      "Converting to 50 dpi images...\n",
      "2024-10-23 22:51:40.285650,pdf2img,50,30.266543865203857,20.35\n",
      "Converting to 20 dpi images...\n",
      "2024-10-23 22:52:02.882091,pdf2img,20,22.5888090133667,4.14\n",
      "Converting to 10 dpi images...\n",
      "2024-10-23 22:52:21.305952,pdf2img,10,18.41783571243286,1.55\n",
      "Converting to 5 dpi images...\n",
      "2024-10-23 22:52:39.279597,pdf2img,5,17.96633791923523,0.82\n"
     ]
    }
   ],
   "source": [
    "dpi_list = [300, 250, 200, 150, 100, 50, 20, 10, 5]\n",
    "\n",
    "for dpi in dpi_list:\n",
    "    print(f\"Converting to {dpi} dpi images...\")\n",
    "    start_time = time.time()\n",
    "    os.mkdir(f'../outputs/pdf2img_{dpi}dpi')\n",
    "    convert_from_path(\n",
    "        pdf_path='../datasets/statistik-indonesia-2024.pdf',\n",
    "        dpi=dpi,\n",
    "        fmt='jpg',\n",
    "        output_folder=f'../outputs/pdf2img_{dpi}dpi'\n",
    "    )\n",
    "    converting_time = time.time() - start_time\n",
    "    output_folder_size = get_folder_size(f'../outputs/pdf2img_{dpi}dpi')\n",
    "    log('../datasets/result-log.csv', f\"{str(datetime.now())},pdf2img,{dpi},{converting_time},{output_folder_size}\")\n",
    "    print(f\"{str(datetime.now())},pdf2img,{dpi},{converting_time},{output_folder_size}\")\n",
    "    del start_time, output_folder_size, converting_time"
   ]
  },
  {
   "cell_type": "code",
   "execution_count": 4,
   "id": "8b9ee6a0-2a34-4d38-bdd0-7fc4aca6b94a",
   "metadata": {},
   "outputs": [
    {
     "name": "stdout",
     "output_type": "stream",
     "text": [
      "Converting to 300 dpi images...\n",
      "2024-10-24 07:39:12.615716,pymupdf,300,383.2682309150696,636.07\n",
      "Converting to 250 dpi images...\n",
      "2024-10-24 07:43:45.015801,pymupdf,250,272.3929591178894,495.85\n",
      "Converting to 200 dpi images...\n",
      "2024-10-24 07:46:53.458470,pymupdf,200,188.43637895584106,361.91\n",
      "Converting to 150 dpi images...\n",
      "2024-10-24 07:48:51.866998,pymupdf,150,118.40183925628662,237.54\n",
      "Converting to 100 dpi images...\n",
      "2024-10-24 07:49:54.865291,pymupdf,100,62.991759061813354,130.74\n",
      "Converting to 50 dpi images...\n",
      "2024-10-24 07:50:23.189483,pymupdf,50,28.318040132522583,41.49\n",
      "Converting to 20 dpi images...\n",
      "2024-10-24 07:50:40.380795,pymupdf,20,17.18501305580139,8.83\n",
      "Converting to 10 dpi images...\n",
      "2024-10-24 07:50:56.412142,pymupdf,10,16.02527904510498,2.95\n",
      "Converting to 5 dpi images...\n",
      "2024-10-24 07:51:14.158162,pymupdf,5,17.739565134048462,1.24\n"
     ]
    }
   ],
   "source": [
    "dpi_list = [300, 250, 200, 150, 100, 50, 20, 10, 5]\n",
    "for dpi in dpi_list:\n",
    "    print(f\"Converting to {dpi} dpi images...\")\n",
    "    start_time = time.time()\n",
    "    os.mkdir(f'../outputs/pymupdf_{dpi}dpi')\n",
    "    doc = pymupdf.open('../datasets/statistik-indonesia-2024.pdf')  # open document\n",
    "    for page in doc:  # iterate through the pages\n",
    "        pix = page.get_pixmap(dpi=dpi)  # render page to an image\n",
    "        pix.save(f\"../outputs/pymupdf_{dpi}dpi/page-%i.jpg\" % page.number)  # store image as a jpg\n",
    "        \n",
    "    converting_time = time.time() - start_time\n",
    "    output_folder_size = get_folder_size(f'../outputs/pymupdf_{dpi}dpi')\n",
    "    log('../datasets/result-log.csv', f\"{str(datetime.now())},pymupdf,{dpi},{converting_time},{output_folder_size}\")\n",
    "    print(f\"{str(datetime.now())},pymupdf,{dpi},{converting_time},{output_folder_size}\")\n",
    "    del start_time, output_folder_size, converting_time"
   ]
  },
  {
   "cell_type": "code",
   "execution_count": 8,
   "id": "6bbdaa5e-92eb-4a65-b9c4-00de45cb8403",
   "metadata": {},
   "outputs": [
    {
     "name": "stdout",
     "output_type": "stream",
     "text": [
      "Converting to 300 dpi images...\n",
      "2024-10-24 08:05:48.449504,pdfium,300,144.2276690006256,346.47\n",
      "Converting to 250 dpi images...\n",
      "2024-10-24 08:07:36.379627,pdfium,250,107.9222469329834,266.49\n",
      "Converting to 200 dpi images...\n",
      "2024-10-24 08:08:54.918299,pdfium,200,78.5314691066742,192.51\n",
      "Converting to 150 dpi images...\n",
      "2024-10-24 08:09:48.254962,pdfium,150,53.32326817512512,124.04\n",
      "Converting to 100 dpi images...\n",
      "2024-10-24 08:10:24.633738,pdfium,100,36.371926069259644,65.69\n",
      "Converting to 50 dpi images...\n",
      "2024-10-24 08:10:50.676569,pdfium,50,26.036309003829956,19.0\n",
      "Converting to 20 dpi images...\n",
      "2024-10-24 08:11:14.679918,pdfium,20,23.996803283691406,4.04\n",
      "Converting to 10 dpi images...\n",
      "2024-10-24 08:11:42.763905,pdfium,10,28.078026056289673,1.56\n",
      "Converting to 5 dpi images...\n",
      "2024-10-24 08:12:23.792623,pdfium,5,41.02177810668945,0.81\n"
     ]
    }
   ],
   "source": [
    "pdf = pdfium.PdfDocument(\"../datasets/statistik-indonesia-2024.pdf\")\n",
    "\n",
    "dpi_list = [300, 250, 200, 150, 100, 50, 20, 10, 5]\n",
    "\n",
    "for dpi in dpi_list:\n",
    "    print(f\"Converting to {dpi} dpi images...\")\n",
    "    start_time = time.time()\n",
    "    os.mkdir(f'../outputs/pdfium_{dpi}dpi')\n",
    "    for i in range(len(pdf)):\n",
    "        bitmap = pdf[i].render(\n",
    "            scale = 1/72 * dpi,    # 72dpi resolution\n",
    "            rotation = 0, # no additional rotation\n",
    "        )\n",
    "        pil_image = bitmap.to_pil()\n",
    "        pil_image.save(f\"../outputs/pdfium_{dpi}dpi/page-{i+1}.jpg\")\n",
    "\n",
    "    converting_time = time.time() - start_time\n",
    "    output_folder_size = get_folder_size(f'../outputs/pdfium_{dpi}dpi')\n",
    "    log('../datasets/result-log.csv', f\"{str(datetime.now())},pdfium,{dpi},{converting_time},{output_folder_size}\")\n",
    "    print(f\"{str(datetime.now())},pdfium,{dpi},{converting_time},{output_folder_size}\")\n",
    "    del start_time, output_folder_size, converting_time"
   ]
  },
  {
   "cell_type": "code",
   "execution_count": 7,
   "id": "a60ec74f-7a0b-4d6e-86f9-531702dd7357",
   "metadata": {},
   "outputs": [
    {
     "data": {
      "text/plain": [
       "2.43"
      ]
     },
     "execution_count": 7,
     "metadata": {},
     "output_type": "execute_result"
    }
   ],
   "source": [
    "round(2.432343802, ndigits=2)"
   ]
  },
  {
   "cell_type": "code",
   "execution_count": 3,
   "id": "011e8b22-4370-499f-bd73-56dcff737626",
   "metadata": {},
   "outputs": [],
   "source": [
    "import datetime"
   ]
  },
  {
   "cell_type": "code",
   "execution_count": 4,
   "id": "3a02c7af-4c8d-468b-87bf-a295e6808364",
   "metadata": {},
   "outputs": [
    {
     "data": {
      "text/plain": [
       "'2024-10-23 21:54:52.756655'"
      ]
     },
     "execution_count": 4,
     "metadata": {},
     "output_type": "execute_result"
    }
   ],
   "source": [
    "str(datetime.datetime.now())"
   ]
  },
  {
   "cell_type": "code",
   "execution_count": 8,
   "id": "01567ded-59c0-454a-b9ef-fa59bee44d7f",
   "metadata": {},
   "outputs": [],
   "source": [
    "with open('../outputs/result-log.csv', 'a') as f:\n",
    "    f.writelines(\"\\n10,ewr,ewew.e,rew,10\")"
   ]
  },
  {
   "cell_type": "code",
   "execution_count": null,
   "id": "4ca0b0df-ebe7-43e9-916b-68afe6c67b6d",
   "metadata": {},
   "outputs": [],
   "source": []
  }
 ],
 "metadata": {
  "kernelspec": {
   "display_name": "Python [conda env:print-cost] *",
   "language": "python",
   "name": "conda-env-print-cost-py"
  },
  "language_info": {
   "codemirror_mode": {
    "name": "ipython",
    "version": 3
   },
   "file_extension": ".py",
   "mimetype": "text/x-python",
   "name": "python",
   "nbconvert_exporter": "python",
   "pygments_lexer": "ipython3",
   "version": "3.11.10"
  }
 },
 "nbformat": 4,
 "nbformat_minor": 5
}
