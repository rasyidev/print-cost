{
 "cells": [
  {
   "cell_type": "markdown",
   "id": "162f6dd5",
   "metadata": {},
   "source": [
    "# Riset Konversi PDF ke Gambar\n",
    "\n",
    "**Tujuan**\n",
    "- Membandingkan kecepatan convert file pdf ke file gambar\n",
    "- \n",
    "\n",
    "**Parameter:**\n",
    "- PDF Converter Libraries: pdf2image, pdfium, pymupdf\n",
    "- DPI: 300, 250, 200, 150, 100, 50, 20, 10, 5\n",
    "- Waktu\n",
    "\n",
    "**Base perbandingan:**\n",
    "- 300 DPI\n",
    "- Waktu untuk 300 DPI\n",
    "\n",
    "**CSV Column for Comparisons:**\n",
    "- datetime\n",
    "- library_name\n",
    "- dpi\n",
    "- converting_time\n",
    "- output_folder_size"
   ]
  },
  {
   "cell_type": "code",
   "execution_count": 1,
   "id": "4be461c2",
   "metadata": {},
   "outputs": [],
   "source": [
    "import sys\n",
    "import os\n",
    "from pdf2image import convert_from_path\n",
    "import time\n",
    "\n",
    "sys.path.append(os.path.abspath('..')) \n",
    "from src.helper import get_folder_size"
   ]
  },
  {
   "cell_type": "code",
   "execution_count": null,
   "id": "558b298e-a56e-4bba-9928-09ccbc191c24",
   "metadata": {},
   "outputs": [],
   "source": [
    "start_time = time.time()\n",
    "convert_from_path(\n",
    "    pdf_path='../datasets/statistik-indonesia-2024.pdf',\n",
    "    dpi=300,\n",
    "    output_folder='../outputs/pdf2img_300dpi'\n",
    ")\n",
    "converting_time = time.time() - start_time\n",
    "del start_time"
   ]
  },
  {
   "cell_type": "code",
   "execution_count": 5,
   "id": "8b9ee6a0-2a34-4d38-bdd0-7fc4aca6b94a",
   "metadata": {},
   "outputs": [],
   "source": []
  },
  {
   "cell_type": "code",
   "execution_count": 2,
   "id": "6bbdaa5e-92eb-4a65-b9c4-00de45cb8403",
   "metadata": {},
   "outputs": [
    {
     "data": {
      "text/plain": [
       "24.11"
      ]
     },
     "execution_count": 2,
     "metadata": {},
     "output_type": "execute_result"
    }
   ],
   "source": [
    "get_folder_size('../datasets/')"
   ]
  },
  {
   "cell_type": "code",
   "execution_count": 7,
   "id": "a60ec74f-7a0b-4d6e-86f9-531702dd7357",
   "metadata": {},
   "outputs": [
    {
     "data": {
      "text/plain": [
       "2.43"
      ]
     },
     "execution_count": 7,
     "metadata": {},
     "output_type": "execute_result"
    }
   ],
   "source": [
    "round(2.432343802, ndigits=2)"
   ]
  },
  {
   "cell_type": "code",
   "execution_count": 3,
   "id": "011e8b22-4370-499f-bd73-56dcff737626",
   "metadata": {},
   "outputs": [],
   "source": [
    "import datetime"
   ]
  },
  {
   "cell_type": "code",
   "execution_count": 4,
   "id": "3a02c7af-4c8d-468b-87bf-a295e6808364",
   "metadata": {},
   "outputs": [
    {
     "data": {
      "text/plain": [
       "'2024-10-23 21:54:52.756655'"
      ]
     },
     "execution_count": 4,
     "metadata": {},
     "output_type": "execute_result"
    }
   ],
   "source": [
    "str(datetime.datetime.now())"
   ]
  },
  {
   "cell_type": "code",
   "execution_count": 8,
   "id": "01567ded-59c0-454a-b9ef-fa59bee44d7f",
   "metadata": {},
   "outputs": [],
   "source": [
    "with open('../outputs/result-log.csv', 'a') as f:\n",
    "    f.writelines(\"\\n10,ewr,ewew.e,rew,10\")"
   ]
  },
  {
   "cell_type": "code",
   "execution_count": null,
   "id": "4ca0b0df-ebe7-43e9-916b-68afe6c67b6d",
   "metadata": {},
   "outputs": [],
   "source": []
  }
 ],
 "metadata": {
  "kernelspec": {
   "display_name": "Python 3 (ipykernel)",
   "language": "python",
   "name": "python3"
  },
  "language_info": {
   "codemirror_mode": {
    "name": "ipython",
    "version": 3
   },
   "file_extension": ".py",
   "mimetype": "text/x-python",
   "name": "python",
   "nbconvert_exporter": "python",
   "pygments_lexer": "ipython3",
   "version": "3.12.7"
  }
 },
 "nbformat": 4,
 "nbformat_minor": 5
}
