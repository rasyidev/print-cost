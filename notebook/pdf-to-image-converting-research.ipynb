{
 "cells": [
  {
   "cell_type": "markdown",
   "id": "162f6dd5",
   "metadata": {},
   "source": [
    "# Riset Konversi PDF ke Gambar\n",
    "\n",
    "**Tujuan**\n",
    "- Membandingkan kecepatan convert file pdf ke file gambar\n",
    "- \n",
    "\n",
    "**Parameter:**\n",
    "- PDF Converter Libraries: pdf2image, pdfium, pymupdf\n",
    "- DPI: 300, 250, 200, 150, 100, 50, 20, 10, 5\n",
    "- Waktu\n",
    "\n",
    "**Base perbandingan:**\n",
    "- 300 DPI\n",
    "- Waktu untuk 300 DPI\n",
    "\n",
    "**CSV Column for Comparisons:**\n",
    "- datetime\n",
    "- library_name\n",
    "- dpi\n",
    "- converting_time\n",
    "- output_folder_size"
   ]
  },
  {
   "cell_type": "code",
   "execution_count": 2,
   "id": "4be461c2",
   "metadata": {},
   "outputs": [],
   "source": [
    "import sys\n",
    "import os\n",
    "from pdf2image import convert_from_path\n",
    "import time\n",
    "from datetime import datetime\n",
    "\n",
    "sys.path.append(os.path.abspath('..')) \n",
    "from src.helper import get_folder_size, log"
   ]
  },
  {
   "cell_type": "code",
   "execution_count": 5,
   "id": "558b298e-a56e-4bba-9928-09ccbc191c24",
   "metadata": {},
   "outputs": [
    {
     "name": "stdout",
     "output_type": "stream",
     "text": [
      "Converting to 250 dpi images...\n",
      "2024-10-23 22:47:04.467436,pdf2img,250,148.6288459300995,278.72\n",
      "Converting to 200 dpi images...\n",
      "2024-10-23 22:48:53.715457,pdf2img,200,109.24184608459473,201.25\n",
      "Converting to 150 dpi images...\n",
      "2024-10-23 22:50:19.190190,pdf2img,150,85.46749496459961,130.42\n",
      "Converting to 100 dpi images...\n",
      "2024-10-23 22:51:10.012915,pdf2img,100,50.81601595878601,68.7\n",
      "Converting to 50 dpi images...\n",
      "2024-10-23 22:51:40.285650,pdf2img,50,30.266543865203857,20.35\n",
      "Converting to 20 dpi images...\n",
      "2024-10-23 22:52:02.882091,pdf2img,20,22.5888090133667,4.14\n",
      "Converting to 10 dpi images...\n",
      "2024-10-23 22:52:21.305952,pdf2img,10,18.41783571243286,1.55\n",
      "Converting to 5 dpi images...\n",
      "2024-10-23 22:52:39.279597,pdf2img,5,17.96633791923523,0.82\n"
     ]
    }
   ],
   "source": [
    "dpi_list = [250, 200, 150, 100, 50, 20, 10, 5]\n",
    "\n",
    "for dpi in dpi_list:\n",
    "    print(f\"Converting to {dpi} dpi images...\")\n",
    "    start_time = time.time()\n",
    "    os.mkdir(f'../outputs/pdf2img_{dpi}dpi')\n",
    "    convert_from_path(\n",
    "        pdf_path='../datasets/statistik-indonesia-2024.pdf',\n",
    "        dpi=dpi,\n",
    "        fmt='jpg',\n",
    "        output_folder=f'../outputs/pdf2img_{dpi}dpi'\n",
    "    )\n",
    "    converting_time = time.time() - start_time\n",
    "    output_folder_size = get_folder_size(f'../outputs/pdf2img_{dpi}dpi')\n",
    "    log('../outputs/result-log.csv', f\"{str(datetime.now())},pdf2img,{dpi},{converting_time},{output_folder_size}\")\n",
    "    print(f\"{str(datetime.now())},pdf2img,{dpi},{converting_time},{output_folder_size}\")\n",
    "    del start_time, output_folder_size, converting_time"
   ]
  },
  {
   "cell_type": "code",
   "execution_count": 5,
   "id": "8b9ee6a0-2a34-4d38-bdd0-7fc4aca6b94a",
   "metadata": {},
   "outputs": [],
   "source": []
  },
  {
   "cell_type": "code",
   "execution_count": 2,
   "id": "6bbdaa5e-92eb-4a65-b9c4-00de45cb8403",
   "metadata": {},
   "outputs": [
    {
     "data": {
      "text/plain": [
       "24.11"
      ]
     },
     "execution_count": 2,
     "metadata": {},
     "output_type": "execute_result"
    }
   ],
   "source": [
    "get_folder_size('../datasets/')"
   ]
  },
  {
   "cell_type": "code",
   "execution_count": 7,
   "id": "a60ec74f-7a0b-4d6e-86f9-531702dd7357",
   "metadata": {},
   "outputs": [
    {
     "data": {
      "text/plain": [
       "2.43"
      ]
     },
     "execution_count": 7,
     "metadata": {},
     "output_type": "execute_result"
    }
   ],
   "source": [
    "round(2.432343802, ndigits=2)"
   ]
  },
  {
   "cell_type": "code",
   "execution_count": 3,
   "id": "011e8b22-4370-499f-bd73-56dcff737626",
   "metadata": {},
   "outputs": [],
   "source": [
    "import datetime"
   ]
  },
  {
   "cell_type": "code",
   "execution_count": 4,
   "id": "3a02c7af-4c8d-468b-87bf-a295e6808364",
   "metadata": {},
   "outputs": [
    {
     "data": {
      "text/plain": [
       "'2024-10-23 21:54:52.756655'"
      ]
     },
     "execution_count": 4,
     "metadata": {},
     "output_type": "execute_result"
    }
   ],
   "source": [
    "str(datetime.datetime.now())"
   ]
  },
  {
   "cell_type": "code",
   "execution_count": 8,
   "id": "01567ded-59c0-454a-b9ef-fa59bee44d7f",
   "metadata": {},
   "outputs": [],
   "source": [
    "with open('../outputs/result-log.csv', 'a') as f:\n",
    "    f.writelines(\"\\n10,ewr,ewew.e,rew,10\")"
   ]
  },
  {
   "cell_type": "code",
   "execution_count": null,
   "id": "4ca0b0df-ebe7-43e9-916b-68afe6c67b6d",
   "metadata": {},
   "outputs": [],
   "source": []
  }
 ],
 "metadata": {
  "kernelspec": {
   "display_name": "Python 3 (ipykernel)",
   "language": "python",
   "name": "python3"
  },
  "language_info": {
   "codemirror_mode": {
    "name": "ipython",
    "version": 3
   },
   "file_extension": ".py",
   "mimetype": "text/x-python",
   "name": "python",
   "nbconvert_exporter": "python",
   "pygments_lexer": "ipython3",
   "version": "3.12.7"
  }
 },
 "nbformat": 4,
 "nbformat_minor": 5
}
