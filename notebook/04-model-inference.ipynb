{
 "cells": [
  {
   "cell_type": "markdown",
   "metadata": {},
   "source": [
    "# Model Inference"
   ]
  },
  {
   "cell_type": "code",
   "execution_count": 2,
   "metadata": {},
   "outputs": [],
   "source": [
    "import pymupdf\n",
    "import pickle\n",
    "import pandas as pd\n",
    "\n",
    "import os\n",
    "import sys\n",
    "sys.path.append(os.path.abspath(\"../\"))\n",
    "from src.helper import calculate_cmyk_percentage\n",
    "\n",
    "import time\n",
    "from PIL import Image\n",
    "import io"
   ]
  },
  {
   "cell_type": "code",
   "execution_count": 18,
   "metadata": {},
   "outputs": [],
   "source": [
    "\n",
    "class PrintCost:\n",
    "    df_dict = {\n",
    "        'c': [],\n",
    "        'm': [],\n",
    "        'y': [],\n",
    "        'k': [],\n",
    "        'cmy': [],\n",
    "        'cmyk': [],\n",
    "    }\n",
    "\n",
    "    \n",
    "    def __init__(self, file_path: str, model_pkl_path: str) -> None:\n",
    "        self.file_path = file_path\n",
    "        self.model_pkl_path = model_pkl_path\n",
    "\n",
    "\n",
    "    def extract_cmyk(self, dpi) -> pd.DataFrame:\n",
    "        self._reset_df_dict()\n",
    "        pdf = pymupdf.open(self.file_path)\n",
    "       \n",
    "        \n",
    "        for page in pdf:\n",
    "            pixmap = page.get_pixmap(dpi=dpi)\n",
    "            img = Image.open(io.BytesIO(pixmap.tobytes()))\n",
    "    \n",
    "            cmyk = calculate_cmyk_percentage(img)\n",
    "            self._df_dict_appender(cmyk)\n",
    "\n",
    "        self.df = pd.DataFrame(self.df_dict)\n",
    "        \n",
    "        return self.df\n",
    "\n",
    "\n",
    "    def _reset_df_dict(self):\n",
    "         self.df_dict = {\n",
    "            'c': [],\n",
    "            'm': [],\n",
    "            'y': [],\n",
    "            'k': [],\n",
    "            'cmy': [],\n",
    "            'cmyk': [],\n",
    "         }\n",
    "         \n",
    "\n",
    "    def _df_dict_appender(self, cmyk):\n",
    "        c, m, y, k = cmyk\n",
    "        cmy = c + m + y\n",
    "        self.df_dict['c'].append(c)\n",
    "        self.df_dict['m'].append(m)\n",
    "        self.df_dict['y'].append(y)\n",
    "        self.df_dict['k'].append(k)\n",
    "        self.df_dict['cmy'].append(cmy)\n",
    "        self.df_dict['cmyk'].append(cmy + k)\n",
    "\n",
    "\n",
    "    def predict(self):\n",
    "        self.extract_cmyk(dpi=7)\n",
    "        \n",
    "        model = pickle.load(open(self.model_pkl_path, 'rb'))\n",
    "        y_pred = model.predict(self.df[['cmy', 'k', 'cmyk']])\n",
    "        self.df['price'] = y_pred\n",
    "        self.df.price = self.df.price.replace({0:500, 1:750, 2:1000, 3:1500, 4:2000})\n",
    "        return self.df.price\n",
    "        \n",
    "    "
   ]
  },
  {
   "cell_type": "code",
   "execution_count": 31,
   "metadata": {},
   "outputs": [
    {
     "name": "stdout",
     "output_type": "stream",
     "text": [
      "Jumlah Halaman\t: 884\n",
      "Waktu Prediksi\t: 8.13 detik (109 halaman/detik)\n",
      "Harga\t\t: Rp1.017.250\n"
     ]
    }
   ],
   "source": [
    "start = time.time()\n",
    "pdf_path=\"../datasets/statistik-indonesia-2024-combined.pdf\"\n",
    "model_path = \"../models/xgboost_98.64_cmy_k_cmyk_7_dpi.pkl\"\n",
    "\n",
    "pc = PrintCost(pdf_path, model_path)\n",
    "y_pred = pc.predict()\n",
    "pdf_length = len(y_pred)\n",
    "\n",
    "end = time.time()\n",
    "\n",
    "print(f\"Jumlah Halaman\\t: {pdf_length}\")\n",
    "print(f\"Waktu Prediksi\\t: {(end - start):.2f} detik ({round(pdf_length/(end-start))} halaman/detik)\")\n",
    "print(f\"Harga\\t\\t: Rp{y_pred.sum():,}\".replace(',', '.'))"
   ]
  },
  {
   "cell_type": "code",
   "execution_count": 35,
   "metadata": {},
   "outputs": [
    {
     "data": {
      "text/html": [
       "<div>\n",
       "<style scoped>\n",
       "    .dataframe tbody tr th:only-of-type {\n",
       "        vertical-align: middle;\n",
       "    }\n",
       "\n",
       "    .dataframe tbody tr th {\n",
       "        vertical-align: top;\n",
       "    }\n",
       "\n",
       "    .dataframe thead th {\n",
       "        text-align: right;\n",
       "    }\n",
       "</style>\n",
       "<table border=\"1\" class=\"dataframe\">\n",
       "  <thead>\n",
       "    <tr style=\"text-align: right;\">\n",
       "      <th></th>\n",
       "      <th>count</th>\n",
       "    </tr>\n",
       "    <tr>\n",
       "      <th>price</th>\n",
       "      <th></th>\n",
       "    </tr>\n",
       "  </thead>\n",
       "  <tbody>\n",
       "    <tr>\n",
       "      <th>1500</th>\n",
       "      <td>436</td>\n",
       "    </tr>\n",
       "    <tr>\n",
       "      <th>1000</th>\n",
       "      <td>194</td>\n",
       "    </tr>\n",
       "    <tr>\n",
       "      <th>500</th>\n",
       "      <td>180</td>\n",
       "    </tr>\n",
       "    <tr>\n",
       "      <th>750</th>\n",
       "      <td>55</td>\n",
       "    </tr>\n",
       "    <tr>\n",
       "      <th>2000</th>\n",
       "      <td>19</td>\n",
       "    </tr>\n",
       "  </tbody>\n",
       "</table>\n",
       "</div>"
      ],
      "text/plain": [
       "       count\n",
       "price       \n",
       "1500     436\n",
       "1000     194\n",
       "500      180\n",
       "750       55\n",
       "2000      19"
      ]
     },
     "execution_count": 35,
     "metadata": {},
     "output_type": "execute_result"
    }
   ],
   "source": [
    "pd.DataFrame(y_pred.value_counts())"
   ]
  },
  {
   "cell_type": "code",
   "execution_count": null,
   "metadata": {},
   "outputs": [],
   "source": []
  }
 ],
 "metadata": {
  "kernelspec": {
   "display_name": "print-cost",
   "language": "python",
   "name": "python3"
  },
  "language_info": {
   "codemirror_mode": {
    "name": "ipython",
    "version": 3
   },
   "file_extension": ".py",
   "mimetype": "text/x-python",
   "name": "python",
   "nbconvert_exporter": "python",
   "pygments_lexer": "ipython3",
   "version": "3.11.10"
  }
 },
 "nbformat": 4,
 "nbformat_minor": 2
}
