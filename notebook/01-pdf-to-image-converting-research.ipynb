{
 "cells": [
  {
   "cell_type": "markdown",
   "id": "162f6dd5",
   "metadata": {},
   "source": [
    "# Riset Konversi PDF ke Gambar\n",
    "\n",
    "**Tujuan**\n",
    "- Membandingkan kecepatan convert file pdf ke file gambar\n",
    "- Menentukan library yang digunakan untuk konversi pdf menjadi gambar\n",
    "\n",
    "**Parameter:**\n",
    "- PDF Converter Libraries: {pdf2image, pdfium, pymupdf}\n",
    "- DPI: {300, 250, 200, 150, 100, 50, 20, 10, 5, 1}\n",
    "- Waktu Konversi\n",
    "- Render Options: {}\n",
    "\n",
    "**Base perbandingan:**\n",
    "- Kualitas gambar 300 DPI\n",
    "- Waktu konversi pdf untuk kualitas gambar 300 DPI\n",
    "\n",
    "**CSV Column for Comparisons:**\n",
    "- datetime\n",
    "- library_name\n",
    "- dpi\n",
    "- converting_time\n",
    "- output_folder_size\n",
    "\n",
    "**Output**\n",
    "- file `cmyk_by_dpi_and_library.csv`"
   ]
  },
  {
   "cell_type": "code",
   "execution_count": 23,
   "id": "4be461c2",
   "metadata": {},
   "outputs": [],
   "source": [
    "import sys\n",
    "import os\n",
    "from pdf2image import convert_from_path\n",
    "import pymupdf\n",
    "import pypdfium2 as pdfium\n",
    "import time\n",
    "from datetime import datetime\n",
    "import re\n",
    "import pandas as pd\n",
    "from PIL import Image\n",
    "import io\n",
    "import matplotlib.pyplot as plt\n",
    "import seaborn as sns\n",
    "\n",
    "sys.path.append(os.path.abspath('../'))\n",
    "from src.helper import get_folder_size, log, prepend_zero, calculate_cmyk_percentage"
   ]
  },
  {
   "cell_type": "markdown",
   "id": "da527b7c-6770-4a7f-b46e-b6a6d9f84b3b",
   "metadata": {},
   "source": [
    "## **Variables**"
   ]
  },
  {
   "cell_type": "code",
   "execution_count": 8,
   "id": "717ae420-ef25-49ae-98d2-ba53c0dd83ca",
   "metadata": {},
   "outputs": [
    {
     "data": {
      "text/plain": [
       "[10, 9, 8, 7, 6, 5, 4, 3, 2, 1, 300, 250, 200, 150, 100, 50, 40, 30, 20]"
      ]
     },
     "execution_count": 8,
     "metadata": {},
     "output_type": "execute_result"
    }
   ],
   "source": [
    "dpi_list = list(range(10,0,-1)) + list(range(300, 49, -50)) + list(range(40,10, -10))\n",
    "dpi_list"
   ]
  },
  {
   "cell_type": "markdown",
   "id": "fd3bdb98-89ce-4922-bb92-2293480e2177",
   "metadata": {},
   "source": [
    "## **Pdf2Image**"
   ]
  },
  {
   "cell_type": "code",
   "execution_count": 9,
   "id": "707a60cd-6368-4a9e-b9f1-c8d2b451b1a0",
   "metadata": {},
   "outputs": [],
   "source": [
    "class PDFConverter:\n",
    "    df_dict = {\n",
    "        'library': [],\n",
    "        'dpi': [],\n",
    "        'converting_time': [],\n",
    "        'page': [],\n",
    "        'c': [],\n",
    "        'm': [],\n",
    "        'y': [],\n",
    "        'k': [],\n",
    "        'sum': [],\n",
    "    }\n",
    "\n",
    "    \n",
    "    def __init__(self, file_path: str) -> None:\n",
    "        self.file_path = file_path\n",
    "\n",
    "    \n",
    "    def pdf2img_converter(self, dpi) -> pd.DataFrame:\n",
    "        self.reset_df_dict()\n",
    "        \n",
    "        pdf = convert_from_path(self.file_path, dpi=dpi, fmt='jpg')\n",
    "        \n",
    "        for index, page in enumerate(pdf):\n",
    "            start = time.time()\n",
    "            c, m, y, k = calculate_cmyk_percentage(page)\n",
    "            self.df_dict_appender(c, m, y, k, index, start, dpi)\n",
    "        \n",
    "        return pd.DataFrame(self.df_dict)\n",
    "\n",
    "\n",
    "    def pymupdf_converter(self, dpi) -> pd.DataFrame:\n",
    "        self.reset_df_dict()\n",
    "        pdf = pymupdf.open(self.file_path)\n",
    "       \n",
    "        \n",
    "        for index, page in enumerate(pdf):\n",
    "            start = time.time()\n",
    "            pixmap = page.get_pixmap(dpi=dpi)\n",
    "            img = Image.open(io.BytesIO(pixmap.tobytes()))\n",
    "    \n",
    "            c, m, y, k = calculate_cmyk_percentage(img)\n",
    "            self.df_dict_appender(c, m, y, k, index, start, dpi)\n",
    "    \n",
    "        return pd.DataFrame(self.df_dict)\n",
    "\n",
    "    def pdfium_converter(self, dpi) -> pd.DataFrame:\n",
    "        self.reset_df_dict()\n",
    "        start = time.time()\n",
    "        pdf = pdfium.PdfDocument(self.file_path)\n",
    "        \n",
    "        for index, page in enumerate(pdf):\n",
    "            start = time.time()\n",
    "            bitmap = pdf[index].render(\n",
    "                scale = 1/72 * dpi,\n",
    "            )\n",
    "            img = bitmap.to_pil()\n",
    "            c, m, y, k = calculate_cmyk_percentage(img)\n",
    "            self.df_dict_appender(c, m, y, k, index, start, dpi)\n",
    "    \n",
    "        return pd.DataFrame(self.df_dict)\n",
    "\n",
    "    def reset_df_dict(self):\n",
    "         self.df_dict = {\n",
    "            'library': [],\n",
    "             'dpi': [],\n",
    "            'converting_time': [],\n",
    "            'page': [],\n",
    "            'c': [],\n",
    "            'm': [],\n",
    "            'y': [],\n",
    "            'k': [],\n",
    "            'sum': [],\n",
    "         }\n",
    "\n",
    "    def df_dict_appender(self, c, m, y, k, index, start, dpi):\n",
    "        sum_ = c + m + y + k\n",
    "        self.df_dict['library'].append('pdfium')\n",
    "        self.df_dict['dpi'].append(dpi)\n",
    "        self.df_dict['page'].append(index+1)\n",
    "        self.df_dict['c'].append(c)\n",
    "        self.df_dict['m'].append(m)\n",
    "        self.df_dict['y'].append(y)\n",
    "        self.df_dict['k'].append(k)\n",
    "        self.df_dict['sum'].append(sum_)\n",
    "        self.df_dict['converting_time'].append(time.time() - start)\n",
    "    "
   ]
  },
  {
   "cell_type": "code",
   "execution_count": 10,
   "id": "f288ec12-1c2a-499e-90a6-79f7889e2bc1",
   "metadata": {},
   "outputs": [],
   "source": [
    "conv = PDFConverter(\"../datasets/statistik-indonesia-2024-combined.pdf\")"
   ]
  },
  {
   "cell_type": "code",
   "execution_count": null,
   "id": "d377ecbb-e992-4dc0-815d-d52f77a150cb",
   "metadata": {},
   "outputs": [],
   "source": [
    "df_dict = {\n",
    "    'library': [],\n",
    "    'dpi': [],\n",
    "    'converting_time': [],\n",
    "}\n",
    "\n",
    "\n",
    "for dpi in dpi_list:\n",
    "    print(f\"Converting {dpi} dpi\")\n",
    "    start = time.time()\n",
    "    \n",
    "    df_temp = conv.pdf2img_converter(dpi)\n",
    "    df_dict['library'].append('pdf2mg')\n",
    "    df_dict['dpi'].append(dpi)\n",
    "    df_dict['converting_time'].append(time.time() - start)\n",
    "\n",
    "    df_temp.to_csv(\"../outputs/csv/cmyk_of_a_pdf_file_by_dpi.csv\", mode='a', index=False, header=False)\n",
    "\n",
    "    start = time.time()\n",
    "    df_temp = conv.pymupdf_converter(dpi)\n",
    "    df_dict['library'].append('pymupdf')\n",
    "    df_dict['dpi'].append(dpi)\n",
    "    df_dict['converting_time'].append(time.time() - start)\n",
    "\n",
    "    df_temp.to_csv(\"../outputs/csv/cmyk_of_a_pdf_file_by_dpi.csv\", mode='a', index=False, header=False)\n",
    "    \n",
    "    start = time.time()\n",
    "    df_temp = conv.pdfium_converter(dpi)\n",
    "    df_dict['library'].append('pdfium')\n",
    "    df_dict['dpi'].append(dpi)\n",
    "    df_dict['converting_time'].append(time.time() - start)\n",
    "\n",
    "    df_temp.to_csv(\"../outputs/csv/cmyk_of_a_pdf_file_by_dpi.csv\", mode='a', index=False, header=False)\n",
    "\n",
    "\n",
    "df_cvt = pd.DataFrame(df_dict)\n",
    "df_cvt.to_csv(\"../outputs/csv/pdf_to_img_converting_time_by_libraries.csv\", index=False)"
   ]
  },
  {
   "cell_type": "code",
   "execution_count": 27,
   "id": "c8900ae1-7dde-45ae-8bf4-d0b8af3bc129",
   "metadata": {
    "scrolled": true
   },
   "outputs": [
    {
     "data": {
      "text/html": [
       "<div>\n",
       "<style scoped>\n",
       "    .dataframe tbody tr th:only-of-type {\n",
       "        vertical-align: middle;\n",
       "    }\n",
       "\n",
       "    .dataframe tbody tr th {\n",
       "        vertical-align: top;\n",
       "    }\n",
       "\n",
       "    .dataframe thead th {\n",
       "        text-align: right;\n",
       "    }\n",
       "</style>\n",
       "<table border=\"1\" class=\"dataframe\">\n",
       "  <thead>\n",
       "    <tr style=\"text-align: right;\">\n",
       "      <th></th>\n",
       "      <th>library</th>\n",
       "      <th>dpi</th>\n",
       "      <th>converting_time</th>\n",
       "    </tr>\n",
       "  </thead>\n",
       "  <tbody>\n",
       "    <tr>\n",
       "      <th>0</th>\n",
       "      <td>pdf2mg</td>\n",
       "      <td>10</td>\n",
       "      <td>16.536244</td>\n",
       "    </tr>\n",
       "    <tr>\n",
       "      <th>1</th>\n",
       "      <td>pymupdf</td>\n",
       "      <td>10</td>\n",
       "      <td>9.134181</td>\n",
       "    </tr>\n",
       "    <tr>\n",
       "      <th>2</th>\n",
       "      <td>pdfium</td>\n",
       "      <td>10</td>\n",
       "      <td>12.991767</td>\n",
       "    </tr>\n",
       "    <tr>\n",
       "      <th>3</th>\n",
       "      <td>pdf2mg</td>\n",
       "      <td>9</td>\n",
       "      <td>15.952207</td>\n",
       "    </tr>\n",
       "    <tr>\n",
       "      <th>4</th>\n",
       "      <td>pymupdf</td>\n",
       "      <td>9</td>\n",
       "      <td>7.832357</td>\n",
       "    </tr>\n",
       "  </tbody>\n",
       "</table>\n",
       "</div>"
      ],
      "text/plain": [
       "   library  dpi  converting_time\n",
       "0   pdf2mg   10        16.536244\n",
       "1  pymupdf   10         9.134181\n",
       "2   pdfium   10        12.991767\n",
       "3   pdf2mg    9        15.952207\n",
       "4  pymupdf    9         7.832357"
      ]
     },
     "execution_count": 27,
     "metadata": {},
     "output_type": "execute_result"
    }
   ],
   "source": [
    "df_cvt.head(5)"
   ]
  },
  {
   "cell_type": "code",
   "execution_count": 28,
   "id": "df4e969f-9ea3-4588-9443-3e4adbc94934",
   "metadata": {
    "scrolled": true
   },
   "outputs": [],
   "source": [
    "df_cvt.sort_values(['dpi', 'library'], inplace=True)\n",
    "df_cvt.to_csv(\"../outputs/csv/pdf_to_img_converting_time_by_libraries.csv\", index=False, mode='a', )"
   ]
  },
  {
   "cell_type": "markdown",
   "id": "f626e9ee-7123-4033-b524-f2a512a31a2a",
   "metadata": {},
   "source": [
    "## Konversi Digit Nama File Menjadi 3 Digit"
   ]
  },
  {
   "cell_type": "code",
   "execution_count": 3,
   "id": "2b489ddc-6743-409e-95a4-5e7b227c7392",
   "metadata": {},
   "outputs": [],
   "source": [
    "dpi_list = [200]\n",
    "for dpi in dpi_list:\n",
    "    for f in os.listdir(f\"../outputs/pdfium_{dpi}dpi\"):\n",
    "        os.rename(f\"../outputs/pdfium_{dpi}dpi/{f}\", f\"../outputs/pdfium_{dpi}dpi/{prepend_zero(f)}\")"
   ]
  },
  {
   "cell_type": "markdown",
   "id": "1ed42369-5bd0-4b2e-87f6-d55bd1d632a1",
   "metadata": {},
   "source": [
    "## Perbandingan Antara 3 Library Converter PDF ke Gambar"
   ]
  },
  {
   "cell_type": "code",
   "execution_count": 36,
   "id": "994d2d25-95eb-475a-8d33-1fbe5e81b885",
   "metadata": {},
   "outputs": [],
   "source": [
    "import matplotlib.pyplot as plt\n",
    "import pandas as pd"
   ]
  },
  {
   "cell_type": "code",
   "execution_count": 25,
   "id": "0ea1eaa6-5b3b-4ca9-986a-df566e5cd7a5",
   "metadata": {},
   "outputs": [],
   "source": [
    "import seaborn as sns"
   ]
  },
  {
   "cell_type": "code",
   "execution_count": 29,
   "id": "822e32ba-bac0-467c-86ba-4c09cc00262c",
   "metadata": {},
   "outputs": [
    {
     "data": {
      "image/png": "[encoded data removed]",
      "text/plain": [
       "<Figure size 2500x1500 with 1 Axes>"
      ]
     },
     "metadata": {},
     "output_type": "display_data"
    }
   ],
   "source": [
    "plt.figure(figsize=(25,15))\n",
    "sns.barplot(data=df_cvt, x='dpi', y='converting_time', hue='library', palette=['violet', 'teal', 'coral'])\n",
    "plt.xlabel(\"DPI\")\n",
    "plt.show()"
   ]
  },
  {
   "cell_type": "code",
   "execution_count": 55,
   "id": "7dd0fa53-a3c6-456f-99de-151ffe1e1425",
   "metadata": {},
   "outputs": [
    {
     "data": {
      "image/png": "[encoded data removed]",
      "text/plain": [
       "<Figure size 2500x1500 with 1 Axes>"
      ]
     },
     "metadata": {},
     "output_type": "display_data"
    }
   ],
   "source": [
    "plt.figure(figsize=(25,15))\n",
    "sns.barplot(data=df, x='dpi', y='output_folder_size', hue='library_name', palette=['violet', 'teal', 'coral'])\n",
    "plt.xlabel(\"DPI\")\n",
    "plt.show()"
   ]
  },
  {
   "cell_type": "markdown",
   "id": "46ece11b-4f00-4cd1-a262-2886afb23397",
   "metadata": {},
   "source": [
    "## Kesimpulan\n",
    "Library `pdfium` memiliki kecepatan paling tinggi dan total ukuran file paling rendah daripada `pdf2img` dan `PyMuPDF`"
   ]
  },
  {
   "cell_type": "code",
   "execution_count": 109,
   "id": "53b93edf-d90c-43da-a599-f01252f8d281",
   "metadata": {},
   "outputs": [],
   "source": [
    "import pathlib\n",
    "\n",
    "r = pathlib.Path().resolve().parent"
   ]
  },
  {
   "cell_type": "code",
   "execution_count": 110,
   "id": "8b4c3cad-e772-4080-895b-d8d8354ace57",
   "metadata": {},
   "outputs": [
    {
     "data": {
      "text/plain": [
       "PosixPath('/Users/rasyidev/Documents/rasyidevcode/print-cost/output/csv')"
      ]
     },
     "execution_count": 110,
     "metadata": {},
     "output_type": "execute_result"
    }
   ],
   "source": [
    "r.joinpath(\"output/csv/\")"
   ]
  },
  {
   "cell_type": "code",
   "execution_count": 7,
   "id": "130e1a2f-bdb9-4de9-834f-7ccd391cc948",
   "metadata": {},
   "outputs": [],
   "source": [
    "a = pd.DataFrame(columns=['c', 'm', 'y', 'k', 'sum'])"
   ]
  },
  {
   "cell_type": "code",
   "execution_count": null,
   "id": "416a99d1-5a58-4fc4-b636-10f6eed55574",
   "metadata": {},
   "outputs": [],
   "source": [
    "a.to_csv()"
   ]
  }
 ],
 "metadata": {
  "kernelspec": {
   "display_name": "Python [conda env:print-cost]",
   "language": "python",
   "name": "conda-env-print-cost-py"
  },
  "language_info": {
   "codemirror_mode": {
    "name": "ipython",
    "version": 3
   },
   "file_extension": ".py",
   "mimetype": "text/x-python",
   "name": "python",
   "nbconvert_exporter": "python",
   "pygments_lexer": "ipython3",
   "version": "3.11.10"
  }
 },
 "nbformat": 4,
 "nbformat_minor": 5
}
