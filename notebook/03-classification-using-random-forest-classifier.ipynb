{
 "cells": [
  {
   "cell_type": "code",
   "execution_count": 251,
   "id": "1bce88dd-c50b-428f-a3fb-be187fcaca3a",
   "metadata": {},
   "outputs": [],
   "source": [
    "import pandas as pd\n",
    "from sklearn.ensemble import RandomForestClassifier\n",
    "from sklearn.tree import DecisionTreeClassifier\n",
    "from sklearn.model_selection import train_test_split, GridSearchCV\n",
    "from sklearn.preprocessing import RobustScaler, StandardScaler, MinMaxScaler\n",
    "from sklearn.pipeline import Pipeline\n",
    "from sklearn.compose import ColumnTransformer\n",
    "from sklearn.metrics import classification_report, confusion_matrix\n",
    "\n",
    "import seaborn as sns\n",
    "import matplotlib.pyplot as plt\n",
    "\n",
    "import os, sys\n",
    "sys.path.append(os.path.abspath(\"../\"))\n",
    "from src.helper import show_clustered_image, calculate_cmyk_percentage"
   ]
  },
  {
   "cell_type": "code",
   "execution_count": 204,
   "id": "3c0e68b9-404b-4113-9df9-63b0fce06d49",
   "metadata": {},
   "outputs": [
    {
     "data": {
      "text/html": [
       "<div>\n",
       "<style scoped>\n",
       "    .dataframe tbody tr th:only-of-type {\n",
       "        vertical-align: middle;\n",
       "    }\n",
       "\n",
       "    .dataframe tbody tr th {\n",
       "        vertical-align: top;\n",
       "    }\n",
       "\n",
       "    .dataframe thead th {\n",
       "        text-align: right;\n",
       "    }\n",
       "</style>\n",
       "<table border=\"1\" class=\"dataframe\">\n",
       "  <thead>\n",
       "    <tr style=\"text-align: right;\">\n",
       "      <th></th>\n",
       "      <th>c</th>\n",
       "      <th>m</th>\n",
       "      <th>y</th>\n",
       "      <th>k</th>\n",
       "      <th>sum</th>\n",
       "      <th>label</th>\n",
       "    </tr>\n",
       "  </thead>\n",
       "  <tbody>\n",
       "    <tr>\n",
       "      <th>0</th>\n",
       "      <td>0.16</td>\n",
       "      <td>0.19</td>\n",
       "      <td>0.52</td>\n",
       "      <td>8.93</td>\n",
       "      <td>9.80</td>\n",
       "      <td>750</td>\n",
       "    </tr>\n",
       "    <tr>\n",
       "      <th>1</th>\n",
       "      <td>0.56</td>\n",
       "      <td>0.51</td>\n",
       "      <td>0.00</td>\n",
       "      <td>4.35</td>\n",
       "      <td>5.42</td>\n",
       "      <td>500</td>\n",
       "    </tr>\n",
       "    <tr>\n",
       "      <th>2</th>\n",
       "      <td>0.00</td>\n",
       "      <td>0.00</td>\n",
       "      <td>0.00</td>\n",
       "      <td>65.50</td>\n",
       "      <td>65.50</td>\n",
       "      <td>750</td>\n",
       "    </tr>\n",
       "    <tr>\n",
       "      <th>3</th>\n",
       "      <td>0.00</td>\n",
       "      <td>0.00</td>\n",
       "      <td>0.00</td>\n",
       "      <td>75.99</td>\n",
       "      <td>75.99</td>\n",
       "      <td>750</td>\n",
       "    </tr>\n",
       "    <tr>\n",
       "      <th>4</th>\n",
       "      <td>0.00</td>\n",
       "      <td>0.00</td>\n",
       "      <td>0.00</td>\n",
       "      <td>75.99</td>\n",
       "      <td>75.99</td>\n",
       "      <td>750</td>\n",
       "    </tr>\n",
       "    <tr>\n",
       "      <th>...</th>\n",
       "      <td>...</td>\n",
       "      <td>...</td>\n",
       "      <td>...</td>\n",
       "      <td>...</td>\n",
       "      <td>...</td>\n",
       "      <td>...</td>\n",
       "    </tr>\n",
       "    <tr>\n",
       "      <th>879</th>\n",
       "      <td>0.00</td>\n",
       "      <td>0.00</td>\n",
       "      <td>0.00</td>\n",
       "      <td>6.24</td>\n",
       "      <td>6.24</td>\n",
       "      <td>500</td>\n",
       "    </tr>\n",
       "    <tr>\n",
       "      <th>880</th>\n",
       "      <td>2.55</td>\n",
       "      <td>11.07</td>\n",
       "      <td>11.06</td>\n",
       "      <td>15.09</td>\n",
       "      <td>39.77</td>\n",
       "      <td>1500</td>\n",
       "    </tr>\n",
       "    <tr>\n",
       "      <th>881</th>\n",
       "      <td>0.81</td>\n",
       "      <td>1.20</td>\n",
       "      <td>1.84</td>\n",
       "      <td>1.35</td>\n",
       "      <td>5.20</td>\n",
       "      <td>500</td>\n",
       "    </tr>\n",
       "    <tr>\n",
       "      <th>882</th>\n",
       "      <td>4.67</td>\n",
       "      <td>27.89</td>\n",
       "      <td>29.58</td>\n",
       "      <td>16.01</td>\n",
       "      <td>78.15</td>\n",
       "      <td>2000</td>\n",
       "    </tr>\n",
       "    <tr>\n",
       "      <th>883</th>\n",
       "      <td>3.62</td>\n",
       "      <td>4.04</td>\n",
       "      <td>5.74</td>\n",
       "      <td>5.73</td>\n",
       "      <td>19.13</td>\n",
       "      <td>1500</td>\n",
       "    </tr>\n",
       "  </tbody>\n",
       "</table>\n",
       "<p>884 rows × 6 columns</p>\n",
       "</div>"
      ],
      "text/plain": [
       "        c      m      y      k    sum  label\n",
       "0    0.16   0.19   0.52   8.93   9.80    750\n",
       "1    0.56   0.51   0.00   4.35   5.42    500\n",
       "2    0.00   0.00   0.00  65.50  65.50    750\n",
       "3    0.00   0.00   0.00  75.99  75.99    750\n",
       "4    0.00   0.00   0.00  75.99  75.99    750\n",
       "..    ...    ...    ...    ...    ...    ...\n",
       "879  0.00   0.00   0.00   6.24   6.24    500\n",
       "880  2.55  11.07  11.06  15.09  39.77   1500\n",
       "881  0.81   1.20   1.84   1.35   5.20    500\n",
       "882  4.67  27.89  29.58  16.01  78.15   2000\n",
       "883  3.62   4.04   5.74   5.73  19.13   1500\n",
       "\n",
       "[884 rows x 6 columns]"
      ]
     },
     "execution_count": 204,
     "metadata": {},
     "output_type": "execute_result"
    }
   ],
   "source": [
    "df = pd.read_csv(\"../datasets/cmyk_by_dpi_and_render_options.csv\")\n",
    "df = df[(df['dpi'] == 5) & (df['options'] == 'default')]\n",
    "\n",
    "# Reset the index\n",
    "df.reset_index(drop=True, inplace=True)\n",
    "\n",
    "df_clustered = pd.read_csv(\"../datasets/clustered_cmy_k_agglomerative_300dpi.csv\")\n",
    "\n",
    "# Add cmy column\n",
    "df['cmy'] = df['c'] + df['m'] + df['y']\n",
    "df['sum'] = df['cmy'] + df['k']\n",
    "\n",
    "# Only use `cmy` and `k` column\n",
    "df = df[['c', 'm', 'y', 'k', 'sum']]\n",
    "\n",
    "# Add label column from df_clustered\n",
    "df['label'] = df_clustered['label'].values\n",
    "\n",
    "df"
   ]
  },
  {
   "cell_type": "code",
   "execution_count": 205,
   "id": "0b83df3d-6ff8-4833-8f5b-cf76ca73b7cc",
   "metadata": {},
   "outputs": [],
   "source": [
    "X = df.drop(columns='label')\n",
    "y = df['label']"
   ]
  },
  {
   "cell_type": "code",
   "execution_count": 210,
   "id": "21faac3f-a711-4c01-9bb4-2bc1ac8a8908",
   "metadata": {},
   "outputs": [],
   "source": [
    "X_train, X_test, y_train, y_test = train_test_split(X, y, test_size=0.33, stratify=y, random_state=0)"
   ]
  },
  {
   "cell_type": "code",
   "execution_count": 211,
   "id": "a16b3121-009d-4c1a-b4bf-885088c65a05",
   "metadata": {},
   "outputs": [
    {
     "name": "stdout",
     "output_type": "stream",
     "text": [
      "Fitting 3 folds for each of 12 candidates, totalling 36 fits\n",
      "[CV] END classification__class_weight=balanced, classification__criterion=gini, classification__max_features=sqrt; total time=   0.2s\n",
      "[CV] END classification__class_weight=balanced, classification__criterion=gini, classification__max_features=sqrt; total time=   0.2s\n",
      "[CV] END classification__class_weight=balanced, classification__criterion=gini, classification__max_features=sqrt; total time=   0.2s\n",
      "[CV] END classification__class_weight=balanced, classification__criterion=gini, classification__max_features=log2; total time=   0.2s\n",
      "[CV] END classification__class_weight=balanced, classification__criterion=gini, classification__max_features=log2; total time=   0.2s\n",
      "[CV] END classification__class_weight=balanced, classification__criterion=gini, classification__max_features=log2; total time=   0.2s\n",
      "[CV] END classification__class_weight=balanced, classification__criterion=entropy, classification__max_features=sqrt; total time=   0.2s\n",
      "[CV] END classification__class_weight=balanced, classification__criterion=entropy, classification__max_features=sqrt; total time=   0.2s\n",
      "[CV] END classification__class_weight=balanced, classification__criterion=entropy, classification__max_features=sqrt; total time=   0.2s\n",
      "[CV] END classification__class_weight=balanced, classification__criterion=entropy, classification__max_features=log2; total time=   0.2s\n",
      "[CV] END classification__class_weight=balanced, classification__criterion=entropy, classification__max_features=log2; total time=   0.2s\n",
      "[CV] END classification__class_weight=balanced, classification__criterion=entropy, classification__max_features=log2; total time=   0.2s\n",
      "[CV] END classification__class_weight=balanced, classification__criterion=log_loss, classification__max_features=sqrt; total time=   0.2s\n",
      "[CV] END classification__class_weight=balanced, classification__criterion=log_loss, classification__max_features=sqrt; total time=   0.2s\n",
      "[CV] END classification__class_weight=balanced, classification__criterion=log_loss, classification__max_features=sqrt; total time=   0.2s\n",
      "[CV] END classification__class_weight=balanced, classification__criterion=log_loss, classification__max_features=log2; total time=   0.2s\n",
      "[CV] END classification__class_weight=balanced, classification__criterion=log_loss, classification__max_features=log2; total time=   0.2s\n",
      "[CV] END classification__class_weight=balanced, classification__criterion=log_loss, classification__max_features=log2; total time=   0.2s\n",
      "[CV] END classification__class_weight=balanced_subsample, classification__criterion=gini, classification__max_features=sqrt; total time=   0.2s\n",
      "[CV] END classification__class_weight=balanced_subsample, classification__criterion=gini, classification__max_features=sqrt; total time=   0.2s\n",
      "[CV] END classification__class_weight=balanced_subsample, classification__criterion=gini, classification__max_features=sqrt; total time=   0.2s\n",
      "[CV] END classification__class_weight=balanced_subsample, classification__criterion=gini, classification__max_features=log2; total time=   0.2s\n",
      "[CV] END classification__class_weight=balanced_subsample, classification__criterion=gini, classification__max_features=log2; total time=   0.2s\n",
      "[CV] END classification__class_weight=balanced_subsample, classification__criterion=gini, classification__max_features=log2; total time=   0.2s\n",
      "[CV] END classification__class_weight=balanced_subsample, classification__criterion=entropy, classification__max_features=sqrt; total time=   0.2s\n",
      "[CV] END classification__class_weight=balanced_subsample, classification__criterion=entropy, classification__max_features=sqrt; total time=   0.2s\n",
      "[CV] END classification__class_weight=balanced_subsample, classification__criterion=entropy, classification__max_features=sqrt; total time=   0.3s\n",
      "[CV] END classification__class_weight=balanced_subsample, classification__criterion=entropy, classification__max_features=log2; total time=   0.2s\n",
      "[CV] END classification__class_weight=balanced_subsample, classification__criterion=entropy, classification__max_features=log2; total time=   0.2s\n",
      "[CV] END classification__class_weight=balanced_subsample, classification__criterion=entropy, classification__max_features=log2; total time=   0.2s\n",
      "[CV] END classification__class_weight=balanced_subsample, classification__criterion=log_loss, classification__max_features=sqrt; total time=   0.2s\n",
      "[CV] END classification__class_weight=balanced_subsample, classification__criterion=log_loss, classification__max_features=sqrt; total time=   0.2s\n",
      "[CV] END classification__class_weight=balanced_subsample, classification__criterion=log_loss, classification__max_features=sqrt; total time=   0.2s\n",
      "[CV] END classification__class_weight=balanced_subsample, classification__criterion=log_loss, classification__max_features=log2; total time=   0.2s\n",
      "[CV] END classification__class_weight=balanced_subsample, classification__criterion=log_loss, classification__max_features=log2; total time=   0.2s\n",
      "[CV] END classification__class_weight=balanced_subsample, classification__criterion=log_loss, classification__max_features=log2; total time=   0.2s\n"
     ]
    },
    {
     "data": {
      "text/html": [
       "<style>#sk-container-id-35 {color: black;}#sk-container-id-35 pre{padding: 0;}#sk-container-id-35 div.sk-toggleable {background-color: white;}#sk-container-id-35 label.sk-toggleable__label {cursor: pointer;display: block;width: 100%;margin-bottom: 0;padding: 0.3em;box-sizing: border-box;text-align: center;}#sk-container-id-35 label.sk-toggleable__label-arrow:before {content: \"▸\";float: left;margin-right: 0.25em;color: #696969;}#sk-container-id-35 label.sk-toggleable__label-arrow:hover:before {color: black;}#sk-container-id-35 div.sk-estimator:hover label.sk-toggleable__label-arrow:before {color: black;}#sk-container-id-35 div.sk-toggleable__content {max-height: 0;max-width: 0;overflow: hidden;text-align: left;background-color: #f0f8ff;}#sk-container-id-35 div.sk-toggleable__content pre {margin: 0.2em;color: black;border-radius: 0.25em;background-color: #f0f8ff;}#sk-container-id-35 input.sk-toggleable__control:checked~div.sk-toggleable__content {max-height: 200px;max-width: 100%;overflow: auto;}#sk-container-id-35 input.sk-toggleable__control:checked~label.sk-toggleable__label-arrow:before {content: \"▾\";}#sk-container-id-35 div.sk-estimator input.sk-toggleable__control:checked~label.sk-toggleable__label {background-color: #d4ebff;}#sk-container-id-35 div.sk-label input.sk-toggleable__control:checked~label.sk-toggleable__label {background-color: #d4ebff;}#sk-container-id-35 input.sk-hidden--visually {border: 0;clip: rect(1px 1px 1px 1px);clip: rect(1px, 1px, 1px, 1px);height: 1px;margin: -1px;overflow: hidden;padding: 0;position: absolute;width: 1px;}#sk-container-id-35 div.sk-estimator {font-family: monospace;background-color: #f0f8ff;border: 1px dotted black;border-radius: 0.25em;box-sizing: border-box;margin-bottom: 0.5em;}#sk-container-id-35 div.sk-estimator:hover {background-color: #d4ebff;}#sk-container-id-35 div.sk-parallel-item::after {content: \"\";width: 100%;border-bottom: 1px solid gray;flex-grow: 1;}#sk-container-id-35 div.sk-label:hover label.sk-toggleable__label {background-color: #d4ebff;}#sk-container-id-35 div.sk-serial::before {content: \"\";position: absolute;border-left: 1px solid gray;box-sizing: border-box;top: 0;bottom: 0;left: 50%;z-index: 0;}#sk-container-id-35 div.sk-serial {display: flex;flex-direction: column;align-items: center;background-color: white;padding-right: 0.2em;padding-left: 0.2em;position: relative;}#sk-container-id-35 div.sk-item {position: relative;z-index: 1;}#sk-container-id-35 div.sk-parallel {display: flex;align-items: stretch;justify-content: center;background-color: white;position: relative;}#sk-container-id-35 div.sk-item::before, #sk-container-id-35 div.sk-parallel-item::before {content: \"\";position: absolute;border-left: 1px solid gray;box-sizing: border-box;top: 0;bottom: 0;left: 50%;z-index: -1;}#sk-container-id-35 div.sk-parallel-item {display: flex;flex-direction: column;z-index: 1;position: relative;background-color: white;}#sk-container-id-35 div.sk-parallel-item:first-child::after {align-self: flex-end;width: 50%;}#sk-container-id-35 div.sk-parallel-item:last-child::after {align-self: flex-start;width: 50%;}#sk-container-id-35 div.sk-parallel-item:only-child::after {width: 0;}#sk-container-id-35 div.sk-dashed-wrapped {border: 1px dashed gray;margin: 0 0.4em 0.5em 0.4em;box-sizing: border-box;padding-bottom: 0.4em;background-color: white;}#sk-container-id-35 div.sk-label label {font-family: monospace;font-weight: bold;display: inline-block;line-height: 1.2em;}#sk-container-id-35 div.sk-label-container {text-align: center;}#sk-container-id-35 div.sk-container {/* jupyter's `normalize.less` sets `[hidden] { display: none; }` but bootstrap.min.css set `[hidden] { display: none !important; }` so we also need the `!important` here to be able to override the default hidden behavior on the sphinx rendered scikit-learn.org. See: https://github.com/scikit-learn/scikit-learn/issues/21755 */display: inline-block !important;position: relative;}#sk-container-id-35 div.sk-text-repr-fallback {display: none;}</style><div id=\"sk-container-id-35\" class=\"sk-top-container\"><div class=\"sk-text-repr-fallback\"><pre>GridSearchCV(cv=3,\n",
       "             estimator=Pipeline(steps=[(&#x27;transformer&#x27;,\n",
       "                                        ColumnTransformer(transformers=[(&#x27;scale&#x27;,\n",
       "                                                                         RobustScaler(),\n",
       "                                                                         [&#x27;c&#x27;,\n",
       "                                                                          &#x27;m&#x27;,\n",
       "                                                                          &#x27;y&#x27;,\n",
       "                                                                          &#x27;k&#x27;,\n",
       "                                                                          &#x27;sum&#x27;])])),\n",
       "                                       (&#x27;classification&#x27;,\n",
       "                                        RandomForestClassifier())]),\n",
       "             param_grid={&#x27;classification__class_weight&#x27;: [&#x27;balanced&#x27;,\n",
       "                                                          &#x27;balanced_subsample&#x27;],\n",
       "                         &#x27;classification__criterion&#x27;: [&#x27;gini&#x27;, &#x27;entropy&#x27;,\n",
       "                                                       &#x27;log_loss&#x27;],\n",
       "                         &#x27;classification__max_features&#x27;: [&#x27;sqrt&#x27;, &#x27;log2&#x27;]},\n",
       "             verbose=2)</pre><b>In a Jupyter environment, please rerun this cell to show the HTML representation or trust the notebook. <br />On GitHub, the HTML representation is unable to render, please try loading this page with nbviewer.org.</b></div><div class=\"sk-container\" hidden><div class=\"sk-item sk-dashed-wrapped\"><div class=\"sk-label-container\"><div class=\"sk-label sk-toggleable\"><input class=\"sk-toggleable__control sk-hidden--visually\" id=\"sk-estimator-id-204\" type=\"checkbox\" ><label for=\"sk-estimator-id-204\" class=\"sk-toggleable__label sk-toggleable__label-arrow\">GridSearchCV</label><div class=\"sk-toggleable__content\"><pre>GridSearchCV(cv=3,\n",
       "             estimator=Pipeline(steps=[(&#x27;transformer&#x27;,\n",
       "                                        ColumnTransformer(transformers=[(&#x27;scale&#x27;,\n",
       "                                                                         RobustScaler(),\n",
       "                                                                         [&#x27;c&#x27;,\n",
       "                                                                          &#x27;m&#x27;,\n",
       "                                                                          &#x27;y&#x27;,\n",
       "                                                                          &#x27;k&#x27;,\n",
       "                                                                          &#x27;sum&#x27;])])),\n",
       "                                       (&#x27;classification&#x27;,\n",
       "                                        RandomForestClassifier())]),\n",
       "             param_grid={&#x27;classification__class_weight&#x27;: [&#x27;balanced&#x27;,\n",
       "                                                          &#x27;balanced_subsample&#x27;],\n",
       "                         &#x27;classification__criterion&#x27;: [&#x27;gini&#x27;, &#x27;entropy&#x27;,\n",
       "                                                       &#x27;log_loss&#x27;],\n",
       "                         &#x27;classification__max_features&#x27;: [&#x27;sqrt&#x27;, &#x27;log2&#x27;]},\n",
       "             verbose=2)</pre></div></div></div><div class=\"sk-parallel\"><div class=\"sk-parallel-item\"><div class=\"sk-item\"><div class=\"sk-label-container\"><div class=\"sk-label sk-toggleable\"><input class=\"sk-toggleable__control sk-hidden--visually\" id=\"sk-estimator-id-205\" type=\"checkbox\" ><label for=\"sk-estimator-id-205\" class=\"sk-toggleable__label sk-toggleable__label-arrow\">estimator: Pipeline</label><div class=\"sk-toggleable__content\"><pre>Pipeline(steps=[(&#x27;transformer&#x27;,\n",
       "                 ColumnTransformer(transformers=[(&#x27;scale&#x27;, RobustScaler(),\n",
       "                                                  [&#x27;c&#x27;, &#x27;m&#x27;, &#x27;y&#x27;, &#x27;k&#x27;,\n",
       "                                                   &#x27;sum&#x27;])])),\n",
       "                (&#x27;classification&#x27;, RandomForestClassifier())])</pre></div></div></div><div class=\"sk-serial\"><div class=\"sk-item\"><div class=\"sk-serial\"><div class=\"sk-item sk-dashed-wrapped\"><div class=\"sk-label-container\"><div class=\"sk-label sk-toggleable\"><input class=\"sk-toggleable__control sk-hidden--visually\" id=\"sk-estimator-id-206\" type=\"checkbox\" ><label for=\"sk-estimator-id-206\" class=\"sk-toggleable__label sk-toggleable__label-arrow\">transformer: ColumnTransformer</label><div class=\"sk-toggleable__content\"><pre>ColumnTransformer(transformers=[(&#x27;scale&#x27;, RobustScaler(),\n",
       "                                 [&#x27;c&#x27;, &#x27;m&#x27;, &#x27;y&#x27;, &#x27;k&#x27;, &#x27;sum&#x27;])])</pre></div></div></div><div class=\"sk-parallel\"><div class=\"sk-parallel-item\"><div class=\"sk-item\"><div class=\"sk-label-container\"><div class=\"sk-label sk-toggleable\"><input class=\"sk-toggleable__control sk-hidden--visually\" id=\"sk-estimator-id-207\" type=\"checkbox\" ><label for=\"sk-estimator-id-207\" class=\"sk-toggleable__label sk-toggleable__label-arrow\">scale</label><div class=\"sk-toggleable__content\"><pre>[&#x27;c&#x27;, &#x27;m&#x27;, &#x27;y&#x27;, &#x27;k&#x27;, &#x27;sum&#x27;]</pre></div></div></div><div class=\"sk-serial\"><div class=\"sk-item\"><div class=\"sk-estimator sk-toggleable\"><input class=\"sk-toggleable__control sk-hidden--visually\" id=\"sk-estimator-id-208\" type=\"checkbox\" ><label for=\"sk-estimator-id-208\" class=\"sk-toggleable__label sk-toggleable__label-arrow\">RobustScaler</label><div class=\"sk-toggleable__content\"><pre>RobustScaler()</pre></div></div></div></div></div></div></div></div><div class=\"sk-item\"><div class=\"sk-estimator sk-toggleable\"><input class=\"sk-toggleable__control sk-hidden--visually\" id=\"sk-estimator-id-209\" type=\"checkbox\" ><label for=\"sk-estimator-id-209\" class=\"sk-toggleable__label sk-toggleable__label-arrow\">RandomForestClassifier</label><div class=\"sk-toggleable__content\"><pre>RandomForestClassifier()</pre></div></div></div></div></div></div></div></div></div></div></div></div>"
      ],
      "text/plain": [
       "GridSearchCV(cv=3,\n",
       "             estimator=Pipeline(steps=[('transformer',\n",
       "                                        ColumnTransformer(transformers=[('scale',\n",
       "                                                                         RobustScaler(),\n",
       "                                                                         ['c',\n",
       "                                                                          'm',\n",
       "                                                                          'y',\n",
       "                                                                          'k',\n",
       "                                                                          'sum'])])),\n",
       "                                       ('classification',\n",
       "                                        RandomForestClassifier())]),\n",
       "             param_grid={'classification__class_weight': ['balanced',\n",
       "                                                          'balanced_subsample'],\n",
       "                         'classification__criterion': ['gini', 'entropy',\n",
       "                                                       'log_loss'],\n",
       "                         'classification__max_features': ['sqrt', 'log2']},\n",
       "             verbose=2)"
      ]
     },
     "execution_count": 211,
     "metadata": {},
     "output_type": "execute_result"
    }
   ],
   "source": [
    "col_transformer = ColumnTransformer([\n",
    "    (\"scale\", RobustScaler(), ['c', 'm', 'y', 'k', 'sum'])\n",
    "])\n",
    "\n",
    "rfc_params = {\n",
    "    'classification__criterion': [\"gini\", \"entropy\", \"log_loss\"],\n",
    "    'classification__class_weight': [\"balanced\", \"balanced_subsample\"],\n",
    "    'classification__max_features' : [\"sqrt\", \"log2\"],\n",
    "}\n",
    "\n",
    "classification_pipe = Pipeline([\n",
    "    (\"transformer\", col_transformer),\n",
    "    (\"classification\", RandomForestClassifier())\n",
    "])\n",
    "\n",
    "model = GridSearchCV(classification_pipe, param_grid=rfc_params, cv=3, verbose=2)\n",
    "\n",
    "model.fit(X_train, y_train)"
   ]
  },
  {
   "cell_type": "code",
   "execution_count": 212,
   "id": "42358bef-2548-45fb-ace3-c47ba7c6ff1d",
   "metadata": {},
   "outputs": [
    {
     "name": "stdout",
     "output_type": "stream",
     "text": [
      "              precision    recall  f1-score   support\n",
      "\n",
      "         500       1.00      1.00      1.00        59\n",
      "         750       1.00      1.00      1.00        18\n",
      "        1000       0.98      0.97      0.97        86\n",
      "        1500       0.98      0.98      0.98       123\n",
      "        2000       1.00      1.00      1.00         6\n",
      "\n",
      "    accuracy                           0.98       292\n",
      "   macro avg       0.99      0.99      0.99       292\n",
      "weighted avg       0.98      0.98      0.98       292\n",
      "\n"
     ]
    }
   ],
   "source": [
    "y_pred = model.predict(X_test)\n",
    "\n",
    "print(classification_report(y_pred, y_test))"
   ]
  },
  {
   "cell_type": "code",
   "execution_count": 213,
   "id": "a2e71c10-0758-4510-9645-138d6e00d954",
   "metadata": {},
   "outputs": [
    {
     "data": {
      "text/plain": [
       "array([[ 59,   0,   0,   0,   0],\n",
       "       [  0,  18,   0,   0,   0],\n",
       "       [  0,   0,  83,   3,   0],\n",
       "       [  0,   0,   2, 121,   0],\n",
       "       [  0,   0,   0,   0,   6]])"
      ]
     },
     "execution_count": 213,
     "metadata": {},
     "output_type": "execute_result"
    }
   ],
   "source": [
    "confusion_matrix(y_pred, y_test)"
   ]
  },
  {
   "cell_type": "code",
   "execution_count": 219,
   "id": "3fed9696-cff0-48cc-bf13-f7b1ba8efa93",
   "metadata": {},
   "outputs": [
    {
     "data": {
      "text/plain": [
       "array([ 500, 1500,  500,  500, 1500,  500, 1500, 1000, 1000, 1500, 2000,\n",
       "        500, 1500,  500, 1500,  500, 1500, 1000, 1000,  750, 1000, 1000,\n",
       "       1000, 1500,  750, 1000, 1500, 1000, 1000, 1500,  500, 1500, 1500,\n",
       "        750, 1500,  500, 1500, 1500, 1500, 1500, 1500,  500, 1500, 2000,\n",
       "       1500, 1500, 1500,  500, 1000, 1000, 1000,  500,  500, 1000,  500,\n",
       "       1000, 1000, 1500,  500, 1500, 1500,  500,  500, 1000, 1500, 1500,\n",
       "        750, 1500, 1500,  750,  500,  500, 1000, 1500,  500,  750, 1500,\n",
       "       2000,  500, 1000, 1000, 1500,  500, 1500,  500, 1000,  500,  500,\n",
       "       1500, 1500, 1000, 1000, 1500,  500, 1500, 1500, 1000, 1500, 1000,\n",
       "       1000, 1500, 1000,  500, 1000, 1000, 1000, 1000,  750, 1500, 1500,\n",
       "       1500, 1000, 1500, 1500, 1500, 1500, 1500, 1500, 1500, 1500, 1500,\n",
       "        750,  500,  500, 1500, 1500,  500, 1500, 1500, 1000, 1500, 1500,\n",
       "       1000, 1500,  750, 1500, 1500, 1500, 1000, 1500, 1500, 1000, 1500,\n",
       "        500, 1000,  500,  500,  750,  750, 1000, 1000, 1000,  500,  500,\n",
       "       1500, 1500, 1000, 1000, 1500, 1500, 1000, 2000, 1000, 1500,  750,\n",
       "        500,  750, 1000, 1500, 1000, 1500, 1000, 1500,  500,  500, 1500,\n",
       "       1500,  500, 1500,  500,  500,  500, 1500, 1500, 1500, 1000, 1500,\n",
       "       1500,  750, 1000, 1500, 1000,  500,  750, 1000, 1500,  500, 1500,\n",
       "       1000, 1500, 1000, 1000, 1000, 1000, 1500, 1000, 1500, 1000, 1500,\n",
       "        500, 1000,  500, 1500, 1000, 1500, 1500,  500,  500, 1500, 1500,\n",
       "       1000, 1000, 1500, 1000, 1000, 1000,  500, 1500, 1500,  500, 1500,\n",
       "       2000, 1000, 1500, 1500, 1500, 1000, 1500,  500, 1000,  750, 1500,\n",
       "        500, 1000,  750, 1000, 1500, 1500, 1500,  500, 1500, 1500,  500,\n",
       "        500,  500, 1500, 1500, 1000, 1000, 1000, 1000, 1000, 1000, 1500,\n",
       "       1500, 2000, 1000, 1000, 1000, 1000,  500, 1500,  500, 1500, 1000,\n",
       "       1500, 1000, 1500, 1500, 1000, 1500,  500, 1000, 1000, 1500, 1000,\n",
       "       1500,  750, 1500, 1500, 1500, 1500])"
      ]
     },
     "execution_count": 219,
     "metadata": {},
     "output_type": "execute_result"
    }
   ],
   "source": []
  },
  {
   "cell_type": "code",
   "execution_count": 252,
   "id": "5cbeebf2-7804-46de-810b-aeab2fd313b3",
   "metadata": {},
   "outputs": [
    {
     "data": {
      "text/plain": [
       "Text(50.722222222222214, 0.5, 'Predicted')"
      ]
     },
     "execution_count": 252,
     "metadata": {},
     "output_type": "execute_result"
    },
    {
     "data": {
      "image/png": "[encoded data removed]",
      "text/plain": [
       "<Figure size 640x480 with 2 Axes>"
      ]
     },
     "metadata": {},
     "output_type": "display_data"
    }
   ],
   "source": [
    "import numpy as np\n",
    "sns.heatmap(\n",
    "    confusion_matrix(y_pred, y_test, normalize='true', labels=np.unique(y_pred)),\n",
    "    annot=True, cmap='Blues',\n",
    "    xticklabels=np.unique(y_pred), yticklabels=np.unique(y_test))\n",
    "plt.xlabel(\"Actual\")\n",
    "plt.ylabel(\"Predicted\")"
   ]
  },
  {
   "cell_type": "code",
   "execution_count": 254,
   "id": "13e5d05a-7ee7-4204-b20b-0f223d442ce1",
   "metadata": {},
   "outputs": [],
   "source": [
    "import pickle\n",
    "\n",
    "pickle.dump(model, open(\"../models/random_forest_classifier_c_m_y_k_sum_5_dpi.pkl\", 'wb'))\n",
    "pickle.dump(model.best_estimator_, open(\"../models/random_forest_classifier_c_m_y_k_sum_5_dpi_small.pkl\", 'wb'))"
   ]
  },
  {
   "cell_type": "code",
   "execution_count": null,
   "id": "dc98e48c-3055-47b3-bf3a-785a9a90b462",
   "metadata": {},
   "outputs": [],
   "source": []
  }
 ],
 "metadata": {
  "kernelspec": {
   "display_name": "Python [conda env:print-cost] *",
   "language": "python",
   "name": "conda-env-print-cost-py"
  },
  "language_info": {
   "codemirror_mode": {
    "name": "ipython",
    "version": 3
   },
   "file_extension": ".py",
   "mimetype": "text/x-python",
   "name": "python",
   "nbconvert_exporter": "python",
   "pygments_lexer": "ipython3",
   "version": "3.11.10"
  }
 },
 "nbformat": 4,
 "nbformat_minor": 5
}
